{
 "cells": [
  {
   "cell_type": "markdown",
   "metadata": {},
   "source": [
    "# Jobs : EDA, Data Wrangling and Feature Engineering"
   ]
  },
  {
   "cell_type": "code",
   "execution_count": 2,
   "metadata": {},
   "outputs": [],
   "source": [
    "# libraries import\n",
    "\n",
    "import numpy as np\n",
    "import pandas as pd\n",
    "import json\n",
    "import matplotlib.pyplot as plt\n",
    "%matplotlib inline\n",
    "\n",
    "import re\n",
    "import datetime\n",
    "from datetime import date\n",
    "from time import strptime\n",
    "\n",
    "import RAKE as rake\n",
    "import operator\n"
   ]
  },
  {
   "cell_type": "markdown",
   "metadata": {},
   "source": [
    "# Step 1. EDA\n",
    "* First removing nulls\n",
    "* making dataset 'even' by- \n",
    "        --dropping row/ columns \n",
    "        --imputing values as needed\n",
    "        "
   ]
  },
  {
   "cell_type": "code",
   "execution_count": 2,
   "metadata": {},
   "outputs": [],
   "source": [
    "# First reading my job csv\n",
    "job = pd.read_csv('job_desc/master_job_desc.csv')"
   ]
  },
  {
   "cell_type": "code",
   "execution_count": 3,
   "metadata": {},
   "outputs": [
    {
     "name": "stdout",
     "output_type": "stream",
     "text": [
      "<class 'pandas.core.frame.DataFrame'>\n",
      "RangeIndex: 22000 entries, 0 to 21999\n",
      "Data columns (total 14 columns):\n",
      " #   Column               Non-Null Count  Dtype  \n",
      "---  ------               --------------  -----  \n",
      " 0   company              21996 non-null  object \n",
      " 1   education            20004 non-null  object \n",
      " 2   experience           21996 non-null  object \n",
      " 3   industry             21995 non-null  object \n",
      " 4   jobdescription       21996 non-null  object \n",
      " 5   jobid                22000 non-null  int64  \n",
      " 6   joblocation_address  21499 non-null  object \n",
      " 7   jobtitle             22000 non-null  object \n",
      " 8   numberofpositions    4464 non-null   float64\n",
      " 9   payrate              21903 non-null  object \n",
      " 10  postdate             21977 non-null  object \n",
      " 11  site_name            3987 non-null   object \n",
      " 12  skills               21472 non-null  object \n",
      " 13  uniq_id              22000 non-null  object \n",
      "dtypes: float64(1), int64(1), object(12)\n",
      "memory usage: 2.3+ MB\n"
     ]
    }
   ],
   "source": [
    "job.info()"
   ]
  },
  {
   "cell_type": "markdown",
   "metadata": {},
   "source": [
    "### As, noticed, there are null values in dataset. So very first step is to study nulls and remove or impute."
   ]
  },
  {
   "cell_type": "code",
   "execution_count": 4,
   "metadata": {},
   "outputs": [],
   "source": [
    "#removing nulls\n",
    "job.drop(job.columns[[5,8, 11, 13]], axis = 1, inplace = True) "
   ]
  },
  {
   "cell_type": "markdown",
   "metadata": {},
   "source": [
    "# Step 2. Data Wrangling and Feature Engineering\n",
    "\n",
    "\n",
    "I will be working on each column to understand data better. \n",
    "* remove/ impte nulls as needed\n",
    "* custom feature, binning, mapping(convert text to number) as needed for each column\n",
    "* if needed for vectorization in my model later, I will just keep text data as is - so it can be used for tonekization/ vectorization"
   ]
  },
  {
   "cell_type": "markdown",
   "metadata": {},
   "source": [
    "#########################################################################################################\n",
    "## a. Job Description\n",
    "\n",
    "#########################################################################################################"
   ]
  },
  {
   "cell_type": "code",
   "execution_count": 5,
   "metadata": {},
   "outputs": [
    {
     "data": {
      "text/html": [
       "<div>\n",
       "<style scoped>\n",
       "    .dataframe tbody tr th:only-of-type {\n",
       "        vertical-align: middle;\n",
       "    }\n",
       "\n",
       "    .dataframe tbody tr th {\n",
       "        vertical-align: top;\n",
       "    }\n",
       "\n",
       "    .dataframe thead th {\n",
       "        text-align: right;\n",
       "    }\n",
       "</style>\n",
       "<table border=\"1\" class=\"dataframe\">\n",
       "  <thead>\n",
       "    <tr style=\"text-align: right;\">\n",
       "      <th></th>\n",
       "      <th>company</th>\n",
       "      <th>education</th>\n",
       "      <th>experience</th>\n",
       "      <th>industry</th>\n",
       "      <th>jobdescription</th>\n",
       "      <th>joblocation_address</th>\n",
       "      <th>jobtitle</th>\n",
       "      <th>payrate</th>\n",
       "      <th>postdate</th>\n",
       "      <th>skills</th>\n",
       "    </tr>\n",
       "  </thead>\n",
       "  <tbody>\n",
       "    <tr>\n",
       "      <th>3768</th>\n",
       "      <td>NaN</td>\n",
       "      <td>NaN</td>\n",
       "      <td>NaN</td>\n",
       "      <td>NaN</td>\n",
       "      <td>NaN</td>\n",
       "      <td>NaN</td>\n",
       "      <td>1-50 of 680 Service Desk Jobs in Chennai</td>\n",
       "      <td>NaN</td>\n",
       "      <td>NaN</td>\n",
       "      <td>NaN</td>\n",
       "    </tr>\n",
       "    <tr>\n",
       "      <th>4026</th>\n",
       "      <td>NaN</td>\n",
       "      <td>NaN</td>\n",
       "      <td>NaN</td>\n",
       "      <td>NaN</td>\n",
       "      <td>NaN</td>\n",
       "      <td>NaN</td>\n",
       "      <td>1-50 of 658 .net Developer Jobs in Chennai</td>\n",
       "      <td>NaN</td>\n",
       "      <td>NaN</td>\n",
       "      <td>NaN</td>\n",
       "    </tr>\n",
       "    <tr>\n",
       "      <th>4389</th>\n",
       "      <td>NaN</td>\n",
       "      <td>NaN</td>\n",
       "      <td>NaN</td>\n",
       "      <td>NaN</td>\n",
       "      <td>NaN</td>\n",
       "      <td>NaN</td>\n",
       "      <td>1-50 of 574 Asp.net Jobs in Chennai</td>\n",
       "      <td>NaN</td>\n",
       "      <td>NaN</td>\n",
       "      <td>NaN</td>\n",
       "    </tr>\n",
       "    <tr>\n",
       "      <th>4841</th>\n",
       "      <td>NaN</td>\n",
       "      <td>NaN</td>\n",
       "      <td>NaN</td>\n",
       "      <td>NaN</td>\n",
       "      <td>NaN</td>\n",
       "      <td>NaN</td>\n",
       "      <td>1-50 of 507 Risk Analyst Jobs in Chennai</td>\n",
       "      <td>NaN</td>\n",
       "      <td>NaN</td>\n",
       "      <td>NaN</td>\n",
       "    </tr>\n",
       "  </tbody>\n",
       "</table>\n",
       "</div>"
      ],
      "text/plain": [
       "     company education experience industry jobdescription joblocation_address  \\\n",
       "3768     NaN       NaN        NaN      NaN            NaN                 NaN   \n",
       "4026     NaN       NaN        NaN      NaN            NaN                 NaN   \n",
       "4389     NaN       NaN        NaN      NaN            NaN                 NaN   \n",
       "4841     NaN       NaN        NaN      NaN            NaN                 NaN   \n",
       "\n",
       "                                        jobtitle payrate postdate skills  \n",
       "3768    1-50 of 680 Service Desk Jobs in Chennai     NaN      NaN    NaN  \n",
       "4026  1-50 of 658 .net Developer Jobs in Chennai     NaN      NaN    NaN  \n",
       "4389         1-50 of 574 Asp.net Jobs in Chennai     NaN      NaN    NaN  \n",
       "4841    1-50 of 507 Risk Analyst Jobs in Chennai     NaN      NaN    NaN  "
      ]
     },
     "execution_count": 5,
     "metadata": {},
     "output_type": "execute_result"
    }
   ],
   "source": [
    "#there a 4 nulls in job description\n",
    "\n",
    "job[job['jobdescription'].isnull()]"
   ]
  },
  {
   "cell_type": "markdown",
   "metadata": {},
   "source": [
    "### Job description is mandatory column. So need to drop rows with nan jobdescription"
   ]
  },
  {
   "cell_type": "code",
   "execution_count": 6,
   "metadata": {},
   "outputs": [],
   "source": [
    "job.drop(job[job['jobdescription'].isna()].index, axis=0, inplace=True)"
   ]
  },
  {
   "cell_type": "code",
   "execution_count": 8,
   "metadata": {},
   "outputs": [
    {
     "name": "stdout",
     "output_type": "stream",
     "text": [
      "<class 'pandas.core.frame.DataFrame'>\n",
      "Int64Index: 21996 entries, 0 to 21999\n",
      "Data columns (total 10 columns):\n",
      " #   Column               Non-Null Count  Dtype \n",
      "---  ------               --------------  ----- \n",
      " 0   company              21996 non-null  object\n",
      " 1   education            20004 non-null  object\n",
      " 2   experience           21996 non-null  object\n",
      " 3   industry             21995 non-null  object\n",
      " 4   jobdescription       21996 non-null  object\n",
      " 5   joblocation_address  21499 non-null  object\n",
      " 6   jobtitle             21996 non-null  object\n",
      " 7   payrate              21903 non-null  object\n",
      " 8   postdate             21977 non-null  object\n",
      " 9   skills               21472 non-null  object\n",
      "dtypes: object(10)\n",
      "memory usage: 1.8+ MB\n"
     ]
    }
   ],
   "source": [
    "job.info()"
   ]
  },
  {
   "cell_type": "code",
   "execution_count": 7,
   "metadata": {},
   "outputs": [
    {
     "data": {
      "text/html": [
       "<div>\n",
       "<style scoped>\n",
       "    .dataframe tbody tr th:only-of-type {\n",
       "        vertical-align: middle;\n",
       "    }\n",
       "\n",
       "    .dataframe tbody tr th {\n",
       "        vertical-align: top;\n",
       "    }\n",
       "\n",
       "    .dataframe thead th {\n",
       "        text-align: right;\n",
       "    }\n",
       "</style>\n",
       "<table border=\"1\" class=\"dataframe\">\n",
       "  <thead>\n",
       "    <tr style=\"text-align: right;\">\n",
       "      <th></th>\n",
       "      <th>company</th>\n",
       "      <th>education</th>\n",
       "      <th>experience</th>\n",
       "      <th>industry</th>\n",
       "      <th>jobdescription</th>\n",
       "      <th>joblocation_address</th>\n",
       "      <th>jobtitle</th>\n",
       "      <th>payrate</th>\n",
       "      <th>postdate</th>\n",
       "      <th>skills</th>\n",
       "    </tr>\n",
       "  </thead>\n",
       "  <tbody>\n",
       "    <tr>\n",
       "      <th>0</th>\n",
       "      <td>MM Media Pvt Ltd</td>\n",
       "      <td>UG: B.Tech/B.E. - Any Specialization PG:Any Po...</td>\n",
       "      <td>0 - 1 yrs</td>\n",
       "      <td>Media / Entertainment / Internet</td>\n",
       "      <td>Job Description   Send me Jobs like this Quali...</td>\n",
       "      <td>Chennai</td>\n",
       "      <td>Walkin Data Entry Operator (night Shift)</td>\n",
       "      <td>1,50,000 - 2,25,000 P.A</td>\n",
       "      <td>2016-05-21 19:30:00 +0000</td>\n",
       "      <td>ITES</td>\n",
       "    </tr>\n",
       "    <tr>\n",
       "      <th>1</th>\n",
       "      <td>find live infotech</td>\n",
       "      <td>UG: B.Tech/B.E. - Any Specialization PG:MBA/PG...</td>\n",
       "      <td>0 - 0 yrs</td>\n",
       "      <td>Advertising / PR / MR / Event Management</td>\n",
       "      <td>Job Description   Send me Jobs like this Quali...</td>\n",
       "      <td>Chennai</td>\n",
       "      <td>Work Based Onhome Based Part Time.</td>\n",
       "      <td>1,50,000 - 2,50,000 P.A. 20000</td>\n",
       "      <td>2016-05-21 19:30:00 +0000</td>\n",
       "      <td>Marketing</td>\n",
       "    </tr>\n",
       "    <tr>\n",
       "      <th>2</th>\n",
       "      <td>Softtech Career Infosystem Pvt. Ltd</td>\n",
       "      <td>UG: Any Graduate - Any Specialization PG:Any P...</td>\n",
       "      <td>4 - 8 yrs</td>\n",
       "      <td>IT-Software / Software Services</td>\n",
       "      <td>Job Description   Send me Jobs like this - as ...</td>\n",
       "      <td>Bengaluru</td>\n",
       "      <td>Pl/sql Developer - SQL</td>\n",
       "      <td>Not Disclosed by Recruiter</td>\n",
       "      <td>2016-10-13 16:20:55 +0000</td>\n",
       "      <td>IT Software - Application Programming</td>\n",
       "    </tr>\n",
       "    <tr>\n",
       "      <th>3</th>\n",
       "      <td>Onboard HRServices LLP</td>\n",
       "      <td>UG: Any Graduate - Any Specialization PG:CA Do...</td>\n",
       "      <td>11 - 15 yrs</td>\n",
       "      <td>Banking / Financial Services / Broking</td>\n",
       "      <td>Job Description   Send me Jobs like this - Inv...</td>\n",
       "      <td>Mumbai, Bengaluru, Kolkata, Chennai, Coimbator...</td>\n",
       "      <td>Manager/ad/partner - Indirect Tax - CA</td>\n",
       "      <td>Not Disclosed by Recruiter</td>\n",
       "      <td>2016-10-13 16:20:55 +0000</td>\n",
       "      <td>Accounts</td>\n",
       "    </tr>\n",
       "    <tr>\n",
       "      <th>4</th>\n",
       "      <td>Spire Technologies and Solutions Pvt. Ltd.</td>\n",
       "      <td>UG: B.Tech/B.E. - Any Specialization PG:Any Po...</td>\n",
       "      <td>6 - 8 yrs</td>\n",
       "      <td>IT-Software / Software Services</td>\n",
       "      <td>Job Description   Send me Jobs like this Pleas...</td>\n",
       "      <td>Bengaluru</td>\n",
       "      <td>JAVA Technical Lead (6-8 yrs) -</td>\n",
       "      <td>Not Disclosed by Recruiter</td>\n",
       "      <td>2016-10-13 16:20:55 +0000</td>\n",
       "      <td>IT Software - Application Programming</td>\n",
       "    </tr>\n",
       "  </tbody>\n",
       "</table>\n",
       "</div>"
      ],
      "text/plain": [
       "                                      company  \\\n",
       "0                            MM Media Pvt Ltd   \n",
       "1                          find live infotech   \n",
       "2         Softtech Career Infosystem Pvt. Ltd   \n",
       "3                      Onboard HRServices LLP   \n",
       "4  Spire Technologies and Solutions Pvt. Ltd.   \n",
       "\n",
       "                                           education   experience  \\\n",
       "0  UG: B.Tech/B.E. - Any Specialization PG:Any Po...    0 - 1 yrs   \n",
       "1  UG: B.Tech/B.E. - Any Specialization PG:MBA/PG...    0 - 0 yrs   \n",
       "2  UG: Any Graduate - Any Specialization PG:Any P...    4 - 8 yrs   \n",
       "3  UG: Any Graduate - Any Specialization PG:CA Do...  11 - 15 yrs   \n",
       "4  UG: B.Tech/B.E. - Any Specialization PG:Any Po...    6 - 8 yrs   \n",
       "\n",
       "                                   industry  \\\n",
       "0          Media / Entertainment / Internet   \n",
       "1  Advertising / PR / MR / Event Management   \n",
       "2           IT-Software / Software Services   \n",
       "3    Banking / Financial Services / Broking   \n",
       "4           IT-Software / Software Services   \n",
       "\n",
       "                                      jobdescription  \\\n",
       "0  Job Description   Send me Jobs like this Quali...   \n",
       "1  Job Description   Send me Jobs like this Quali...   \n",
       "2  Job Description   Send me Jobs like this - as ...   \n",
       "3  Job Description   Send me Jobs like this - Inv...   \n",
       "4  Job Description   Send me Jobs like this Pleas...   \n",
       "\n",
       "                                 joblocation_address  \\\n",
       "0                                            Chennai   \n",
       "1                                            Chennai   \n",
       "2                                          Bengaluru   \n",
       "3  Mumbai, Bengaluru, Kolkata, Chennai, Coimbator...   \n",
       "4                                          Bengaluru   \n",
       "\n",
       "                                   jobtitle                         payrate  \\\n",
       "0  Walkin Data Entry Operator (night Shift)         1,50,000 - 2,25,000 P.A   \n",
       "1        Work Based Onhome Based Part Time.  1,50,000 - 2,50,000 P.A. 20000   \n",
       "2                    Pl/sql Developer - SQL      Not Disclosed by Recruiter   \n",
       "3    Manager/ad/partner - Indirect Tax - CA      Not Disclosed by Recruiter   \n",
       "4           JAVA Technical Lead (6-8 yrs) -      Not Disclosed by Recruiter   \n",
       "\n",
       "                    postdate                                 skills  \n",
       "0  2016-05-21 19:30:00 +0000                                   ITES  \n",
       "1  2016-05-21 19:30:00 +0000                              Marketing  \n",
       "2  2016-10-13 16:20:55 +0000  IT Software - Application Programming  \n",
       "3  2016-10-13 16:20:55 +0000                               Accounts  \n",
       "4  2016-10-13 16:20:55 +0000  IT Software - Application Programming  "
      ]
     },
     "execution_count": 7,
     "metadata": {},
     "output_type": "execute_result"
    }
   ],
   "source": [
    "job.head()"
   ]
  },
  {
   "cell_type": "markdown",
   "metadata": {},
   "source": [
    "#######################################################################################\n",
    "## b. Working on years of experience  \n",
    "\n",
    "Experience is given in the form --> 0 - 1 yrs. So I will extract the min year and accordingly put in some range. (Custom columns)\n",
    "- 0-1 years -0\n",
    "- 1-5 years -1\n",
    "- 5-10 years-2\n",
    "- 10+ years -3\n",
    "\n",
    "#######################################################################################"
   ]
  },
  {
   "cell_type": "code",
   "execution_count": 9,
   "metadata": {},
   "outputs": [],
   "source": [
    "#j1=job.copy()"
   ]
  },
  {
   "cell_type": "code",
   "execution_count": 15,
   "metadata": {},
   "outputs": [],
   "source": [
    "#j1['experience'] = j1.experience.str.extract('(^\\d+)')\n",
    "job['experience'] = job.experience.str.extract('(^\\d+)')"
   ]
  },
  {
   "cell_type": "code",
   "execution_count": 16,
   "metadata": {},
   "outputs": [
    {
     "name": "stdout",
     "output_type": "stream",
     "text": [
      "<class 'pandas.core.frame.DataFrame'>\n",
      "Int64Index: 21996 entries, 0 to 21999\n",
      "Data columns (total 10 columns):\n",
      " #   Column               Non-Null Count  Dtype  \n",
      "---  ------               --------------  -----  \n",
      " 0   company              21996 non-null  object \n",
      " 1   education            20004 non-null  object \n",
      " 2   experience           21885 non-null  float64\n",
      " 3   industry             21995 non-null  object \n",
      " 4   jobdescription       21996 non-null  object \n",
      " 5   joblocation_address  21499 non-null  object \n",
      " 6   jobtitle             21996 non-null  object \n",
      " 7   payrate              21903 non-null  object \n",
      " 8   postdate             21977 non-null  object \n",
      " 9   skills               21472 non-null  object \n",
      "dtypes: float64(1), object(9)\n",
      "memory usage: 1.8+ MB\n"
     ]
    }
   ],
   "source": [
    "job['experience']= job['experience'].astype('float')\n",
    "job.info()"
   ]
  },
  {
   "cell_type": "code",
   "execution_count": 17,
   "metadata": {},
   "outputs": [
    {
     "data": {
      "text/html": [
       "<div>\n",
       "<style scoped>\n",
       "    .dataframe tbody tr th:only-of-type {\n",
       "        vertical-align: middle;\n",
       "    }\n",
       "\n",
       "    .dataframe tbody tr th {\n",
       "        vertical-align: top;\n",
       "    }\n",
       "\n",
       "    .dataframe thead th {\n",
       "        text-align: right;\n",
       "    }\n",
       "</style>\n",
       "<table border=\"1\" class=\"dataframe\">\n",
       "  <thead>\n",
       "    <tr style=\"text-align: right;\">\n",
       "      <th></th>\n",
       "      <th>company</th>\n",
       "      <th>education</th>\n",
       "      <th>experience</th>\n",
       "      <th>industry</th>\n",
       "      <th>jobdescription</th>\n",
       "      <th>joblocation_address</th>\n",
       "      <th>jobtitle</th>\n",
       "      <th>payrate</th>\n",
       "      <th>postdate</th>\n",
       "      <th>skills</th>\n",
       "    </tr>\n",
       "  </thead>\n",
       "  <tbody>\n",
       "    <tr>\n",
       "      <th>1138</th>\n",
       "      <td>International Centre for Theoretical Sciences</td>\n",
       "      <td>NaN</td>\n",
       "      <td>NaN</td>\n",
       "      <td>Education / Teaching / Training</td>\n",
       "      <td>Job Description   Send me Jobs like this Eligi...</td>\n",
       "      <td>Bengaluru</td>\n",
       "      <td>Postdoctoral Fellowship in Physics &amp; Mathematics</td>\n",
       "      <td>Salary structure is: 32,000 INR (for thesis su...</td>\n",
       "      <td>2016-10-07 16:21:25 +0000</td>\n",
       "      <td>Medical</td>\n",
       "    </tr>\n",
       "    <tr>\n",
       "      <th>5167</th>\n",
       "      <td>Chennai Port Trust</td>\n",
       "      <td>Doctorate:Any Doctorate - Any Specialization, ...</td>\n",
       "      <td>NaN</td>\n",
       "      <td>Shipping / Marine</td>\n",
       "      <td>Job Description   Send me Jobs like this No. o...</td>\n",
       "      <td>Chennai</td>\n",
       "      <td>Medical Officer</td>\n",
       "      <td>NaN</td>\n",
       "      <td>2015-11-26 01:33:39 +0000</td>\n",
       "      <td>Medical</td>\n",
       "    </tr>\n",
       "    <tr>\n",
       "      <th>7193</th>\n",
       "      <td>National Council of Educational Research and T...</td>\n",
       "      <td>Doctorate:Any Doctorate - Any Specialization, ...</td>\n",
       "      <td>NaN</td>\n",
       "      <td>Education / Teaching / Training</td>\n",
       "      <td>Job Description   Send me Jobs like this NCERT...</td>\n",
       "      <td>Delhi</td>\n",
       "      <td>Junior Project Fellow</td>\n",
       "      <td>NaN</td>\n",
       "      <td>2016-06-17 07:45:50 +0000</td>\n",
       "      <td>Teaching</td>\n",
       "    </tr>\n",
       "    <tr>\n",
       "      <th>7195</th>\n",
       "      <td>Indian Institute of Technology Delhi</td>\n",
       "      <td>Doctorate:Any Doctorate - Any Specialization, ...</td>\n",
       "      <td>NaN</td>\n",
       "      <td>Education / Teaching / Training</td>\n",
       "      <td>Job Description   Send me Jobs like this Adver...</td>\n",
       "      <td>Delhi</td>\n",
       "      <td>Sr. Project Scientist</td>\n",
       "      <td>Consolidated Pay : Rs.40,000-44,000-52,000- 56...</td>\n",
       "      <td>2016-06-17 07:45:50 +0000</td>\n",
       "      <td>NaN</td>\n",
       "    </tr>\n",
       "    <tr>\n",
       "      <th>7206</th>\n",
       "      <td>Defence Research and Development Organisation</td>\n",
       "      <td>Doctorate:Any Doctorate - Any Specialization, ...</td>\n",
       "      <td>NaN</td>\n",
       "      <td>Government / Defence</td>\n",
       "      <td>Job Description   Send me Jobs like this Advt....</td>\n",
       "      <td>Delhi</td>\n",
       "      <td>Junior Research Fellows -IT</td>\n",
       "      <td>NaN</td>\n",
       "      <td>2016-05-05 11:34:42 +0000</td>\n",
       "      <td>IT Software - Other</td>\n",
       "    </tr>\n",
       "    <tr>\n",
       "      <th>...</th>\n",
       "      <td>...</td>\n",
       "      <td>...</td>\n",
       "      <td>...</td>\n",
       "      <td>...</td>\n",
       "      <td>...</td>\n",
       "      <td>...</td>\n",
       "      <td>...</td>\n",
       "      <td>...</td>\n",
       "      <td>...</td>\n",
       "      <td>...</td>\n",
       "    </tr>\n",
       "    <tr>\n",
       "      <th>21295</th>\n",
       "      <td>NMDC Limited</td>\n",
       "      <td>NaN</td>\n",
       "      <td>NaN</td>\n",
       "      <td>Iron and Steel</td>\n",
       "      <td>Job Description   Send me Jobs like this Emplo...</td>\n",
       "      <td>Hyderabad</td>\n",
       "      <td>Asst. General Manager (Safety) (E5)</td>\n",
       "      <td>Scale of Pay (Rs.) 43200-3%-66000/-</td>\n",
       "      <td>2016-12-20 18:19:23 +0000</td>\n",
       "      <td>Production</td>\n",
       "    </tr>\n",
       "    <tr>\n",
       "      <th>21315</th>\n",
       "      <td>Directorate of Poultry Research</td>\n",
       "      <td>NaN</td>\n",
       "      <td>NaN</td>\n",
       "      <td>Government / Defence</td>\n",
       "      <td>Job Description   Send me Jobs like this Vacan...</td>\n",
       "      <td>Hyderabad</td>\n",
       "      <td>Lower Divisional Clerk</td>\n",
       "      <td>Pay Band + Grade Pay Rs. 5200-20200+Rs.1900/-</td>\n",
       "      <td>2016-12-21 18:19:24 +0000</td>\n",
       "      <td>Executive Assistant</td>\n",
       "    </tr>\n",
       "    <tr>\n",
       "      <th>21397</th>\n",
       "      <td>NMDC Limited</td>\n",
       "      <td>NaN</td>\n",
       "      <td>NaN</td>\n",
       "      <td>Iron and Steel</td>\n",
       "      <td>Job Description   Send me Jobs like this Emplo...</td>\n",
       "      <td>Hyderabad</td>\n",
       "      <td>Asst. Manager (Safety) (E1)</td>\n",
       "      <td>Scale of Pay (Rs.) 20600-3%-46500/-</td>\n",
       "      <td>2016-12-20 18:19:29 +0000</td>\n",
       "      <td>Production</td>\n",
       "    </tr>\n",
       "    <tr>\n",
       "      <th>21430</th>\n",
       "      <td>NMDC Limited</td>\n",
       "      <td>NaN</td>\n",
       "      <td>NaN</td>\n",
       "      <td>Iron and Steel</td>\n",
       "      <td>Job Description   Send me Jobs like this Emplo...</td>\n",
       "      <td>Hyderabad</td>\n",
       "      <td>Sr. Manager (Safety) (E4)</td>\n",
       "      <td>Scale of Pay (Rs.) 36600-3%-62000/-</td>\n",
       "      <td>2016-12-20 18:19:31 +0000</td>\n",
       "      <td>Production</td>\n",
       "    </tr>\n",
       "    <tr>\n",
       "      <th>21584</th>\n",
       "      <td>NMDC Limited</td>\n",
       "      <td>NaN</td>\n",
       "      <td>NaN</td>\n",
       "      <td>Iron and Steel</td>\n",
       "      <td>Job Description   Send me Jobs like this Emplo...</td>\n",
       "      <td>Hyderabad</td>\n",
       "      <td>Dy. General Manager (Safety) (E6)</td>\n",
       "      <td>Scale of Pay (Rs.) 19000-450-24400/- (Pre-revi...</td>\n",
       "      <td>2016-12-20 18:19:39 +0000</td>\n",
       "      <td>Production</td>\n",
       "    </tr>\n",
       "  </tbody>\n",
       "</table>\n",
       "<p>111 rows × 10 columns</p>\n",
       "</div>"
      ],
      "text/plain": [
       "                                                 company  \\\n",
       "1138       International Centre for Theoretical Sciences   \n",
       "5167                                  Chennai Port Trust   \n",
       "7193   National Council of Educational Research and T...   \n",
       "7195                Indian Institute of Technology Delhi   \n",
       "7206       Defence Research and Development Organisation   \n",
       "...                                                  ...   \n",
       "21295                                       NMDC Limited   \n",
       "21315                    Directorate of Poultry Research   \n",
       "21397                                       NMDC Limited   \n",
       "21430                                       NMDC Limited   \n",
       "21584                                       NMDC Limited   \n",
       "\n",
       "                                               education  experience  \\\n",
       "1138                                                 NaN         NaN   \n",
       "5167   Doctorate:Any Doctorate - Any Specialization, ...         NaN   \n",
       "7193   Doctorate:Any Doctorate - Any Specialization, ...         NaN   \n",
       "7195   Doctorate:Any Doctorate - Any Specialization, ...         NaN   \n",
       "7206   Doctorate:Any Doctorate - Any Specialization, ...         NaN   \n",
       "...                                                  ...         ...   \n",
       "21295                                                NaN         NaN   \n",
       "21315                                                NaN         NaN   \n",
       "21397                                                NaN         NaN   \n",
       "21430                                                NaN         NaN   \n",
       "21584                                                NaN         NaN   \n",
       "\n",
       "                              industry  \\\n",
       "1138   Education / Teaching / Training   \n",
       "5167                 Shipping / Marine   \n",
       "7193   Education / Teaching / Training   \n",
       "7195   Education / Teaching / Training   \n",
       "7206              Government / Defence   \n",
       "...                                ...   \n",
       "21295                   Iron and Steel   \n",
       "21315             Government / Defence   \n",
       "21397                   Iron and Steel   \n",
       "21430                   Iron and Steel   \n",
       "21584                   Iron and Steel   \n",
       "\n",
       "                                          jobdescription joblocation_address  \\\n",
       "1138   Job Description   Send me Jobs like this Eligi...           Bengaluru   \n",
       "5167   Job Description   Send me Jobs like this No. o...             Chennai   \n",
       "7193   Job Description   Send me Jobs like this NCERT...               Delhi   \n",
       "7195   Job Description   Send me Jobs like this Adver...               Delhi   \n",
       "7206   Job Description   Send me Jobs like this Advt....               Delhi   \n",
       "...                                                  ...                 ...   \n",
       "21295  Job Description   Send me Jobs like this Emplo...           Hyderabad   \n",
       "21315  Job Description   Send me Jobs like this Vacan...           Hyderabad   \n",
       "21397  Job Description   Send me Jobs like this Emplo...           Hyderabad   \n",
       "21430  Job Description   Send me Jobs like this Emplo...           Hyderabad   \n",
       "21584  Job Description   Send me Jobs like this Emplo...           Hyderabad   \n",
       "\n",
       "                                               jobtitle  \\\n",
       "1138   Postdoctoral Fellowship in Physics & Mathematics   \n",
       "5167                                    Medical Officer   \n",
       "7193                              Junior Project Fellow   \n",
       "7195                              Sr. Project Scientist   \n",
       "7206                        Junior Research Fellows -IT   \n",
       "...                                                 ...   \n",
       "21295               Asst. General Manager (Safety) (E5)   \n",
       "21315                            Lower Divisional Clerk   \n",
       "21397                       Asst. Manager (Safety) (E1)   \n",
       "21430                         Sr. Manager (Safety) (E4)   \n",
       "21584                 Dy. General Manager (Safety) (E6)   \n",
       "\n",
       "                                                 payrate  \\\n",
       "1138   Salary structure is: 32,000 INR (for thesis su...   \n",
       "5167                                                 NaN   \n",
       "7193                                                 NaN   \n",
       "7195   Consolidated Pay : Rs.40,000-44,000-52,000- 56...   \n",
       "7206                                                 NaN   \n",
       "...                                                  ...   \n",
       "21295                Scale of Pay (Rs.) 43200-3%-66000/-   \n",
       "21315      Pay Band + Grade Pay Rs. 5200-20200+Rs.1900/-   \n",
       "21397                Scale of Pay (Rs.) 20600-3%-46500/-   \n",
       "21430                Scale of Pay (Rs.) 36600-3%-62000/-   \n",
       "21584  Scale of Pay (Rs.) 19000-450-24400/- (Pre-revi...   \n",
       "\n",
       "                        postdate               skills  \n",
       "1138   2016-10-07 16:21:25 +0000              Medical  \n",
       "5167   2015-11-26 01:33:39 +0000              Medical  \n",
       "7193   2016-06-17 07:45:50 +0000             Teaching  \n",
       "7195   2016-06-17 07:45:50 +0000                  NaN  \n",
       "7206   2016-05-05 11:34:42 +0000  IT Software - Other  \n",
       "...                          ...                  ...  \n",
       "21295  2016-12-20 18:19:23 +0000           Production  \n",
       "21315  2016-12-21 18:19:24 +0000  Executive Assistant  \n",
       "21397  2016-12-20 18:19:29 +0000           Production  \n",
       "21430  2016-12-20 18:19:31 +0000           Production  \n",
       "21584  2016-12-20 18:19:39 +0000           Production  \n",
       "\n",
       "[111 rows x 10 columns]"
      ]
     },
     "execution_count": 17,
     "metadata": {},
     "output_type": "execute_result"
    }
   ],
   "source": [
    "job[job['experience'].isnull()]"
   ]
  },
  {
   "cell_type": "code",
   "execution_count": 18,
   "metadata": {},
   "outputs": [],
   "source": [
    "job['experience'].fillna(0, inplace = True) "
   ]
  },
  {
   "cell_type": "code",
   "execution_count": 19,
   "metadata": {},
   "outputs": [
    {
     "name": "stdout",
     "output_type": "stream",
     "text": [
      "<class 'pandas.core.frame.DataFrame'>\n",
      "Int64Index: 21996 entries, 0 to 21999\n",
      "Data columns (total 10 columns):\n",
      " #   Column               Non-Null Count  Dtype  \n",
      "---  ------               --------------  -----  \n",
      " 0   company              21996 non-null  object \n",
      " 1   education            20004 non-null  object \n",
      " 2   experience           21996 non-null  float64\n",
      " 3   industry             21995 non-null  object \n",
      " 4   jobdescription       21996 non-null  object \n",
      " 5   joblocation_address  21499 non-null  object \n",
      " 6   jobtitle             21996 non-null  object \n",
      " 7   payrate              21903 non-null  object \n",
      " 8   postdate             21977 non-null  object \n",
      " 9   skills               21472 non-null  object \n",
      "dtypes: float64(1), object(9)\n",
      "memory usage: 1.8+ MB\n"
     ]
    }
   ],
   "source": [
    "job.info()"
   ]
  },
  {
   "cell_type": "code",
   "execution_count": 20,
   "metadata": {},
   "outputs": [
    {
     "data": {
      "text/plain": [
       "2.0     4530\n",
       "3.0     3497\n",
       "1.0     2733\n",
       "0.0     2714\n",
       "5.0     2174\n",
       "4.0     1995\n",
       "6.0     1030\n",
       "10.0     991\n",
       "8.0      830\n",
       "7.0      698\n",
       "12.0     214\n",
       "9.0      206\n",
       "15.0     201\n",
       "11.0      48\n",
       "14.0      41\n",
       "13.0      41\n",
       "20.0      19\n",
       "18.0      15\n",
       "16.0      11\n",
       "17.0       5\n",
       "23.0       1\n",
       "26.0       1\n",
       "25.0       1\n",
       "Name: experience, dtype: int64"
      ]
     },
     "execution_count": 20,
     "metadata": {},
     "output_type": "execute_result"
    }
   ],
   "source": [
    "job['experience'].value_counts()"
   ]
  },
  {
   "cell_type": "code",
   "execution_count": 22,
   "metadata": {},
   "outputs": [],
   "source": [
    "# converting experiences to int\n",
    "job['experience'] = job['experience'].astype('int')"
   ]
  },
  {
   "cell_type": "code",
   "execution_count": 80,
   "metadata": {},
   "outputs": [
    {
     "data": {
      "text/plain": [
       "Text(0, 0.5, 'Number of Jobs')"
      ]
     },
     "execution_count": 80,
     "metadata": {},
     "output_type": "execute_result"
    },
    {
     "data": {
      "image/png": "[encoded data removed]",
      "text/plain": [
       "<Figure size 432x288 with 1 Axes>"
      ]
     },
     "metadata": {
      "needs_background": "light"
     },
     "output_type": "display_data"
    }
   ],
   "source": [
    "# plotting and analysing the experience range\n",
    "job['experience'].value_counts()[:15].plot(cmap='Reds_r',kind='bar')\n",
    "plt.xlabel(\"Years of experience\")\n",
    "plt.xticks(rotation=0)\n",
    "plt.ylabel(\"Number of Jobs\")"
   ]
  },
  {
   "cell_type": "markdown",
   "metadata": {},
   "source": [
    "### Binning years of experience in experince range in order to match resume experience range"
   ]
  },
  {
   "cell_type": "code",
   "execution_count": 26,
   "metadata": {},
   "outputs": [],
   "source": [
    "arr = np.array([0,2,6,11])\n",
    "job['experience_range'] = arr.searchsorted(job.experience, side='right') - 1"
   ]
  },
  {
   "cell_type": "code",
   "execution_count": 27,
   "metadata": {},
   "outputs": [
    {
     "data": {
      "text/plain": [
       "1    12196\n",
       "0     5447\n",
       "2     3755\n",
       "3      598\n",
       "Name: experience_range, dtype: int64"
      ]
     },
     "execution_count": 27,
     "metadata": {},
     "output_type": "execute_result"
    }
   ],
   "source": [
    "job['experience_range'].value_counts()"
   ]
  },
  {
   "cell_type": "code",
   "execution_count": 83,
   "metadata": {},
   "outputs": [
    {
     "data": {
      "text/plain": [
       "Text(0, 0.5, 'Number of Jobs')"
      ]
     },
     "execution_count": 83,
     "metadata": {},
     "output_type": "execute_result"
    },
    {
     "data": {
      "image/png": "[encoded data removed]",
      "text/plain": [
       "<Figure size 432x288 with 1 Axes>"
      ]
     },
     "metadata": {
      "needs_background": "light"
     },
     "output_type": "display_data"
    }
   ],
   "source": [
    "#plotting and glasing new range\n",
    "job['experience_range'].value_counts().plot(cmap='Greens_r',kind='bar')\n",
    "plt.xlabel(\"Experience range\")\n",
    "plt.xticks(rotation=0)\n",
    "plt.ylabel(\"Number of Jobs\")\n",
    "\n",
    "#  0-1 years   -0\n",
    "#  1-5 years   -1\n",
    "#  5-10 years  -2\n",
    "#  10+ years   -3"
   ]
  },
  {
   "cell_type": "code",
   "execution_count": 28,
   "metadata": {},
   "outputs": [],
   "source": [
    "# time to time saving my data to avoid working from scratch whenever kernel dies/ restarts for whatever reason\n",
    "# j_work_ex = job.copy()\n",
    "# j_work_ex.to_csv('job_sorted_workex.csv', index=False)"
   ]
  },
  {
   "cell_type": "markdown",
   "metadata": {},
   "source": [
    "#########################################################################\n",
    "##  c. Industry\n",
    "#########################################################################"
   ]
  },
  {
   "cell_type": "code",
   "execution_count": 30,
   "metadata": {},
   "outputs": [
    {
     "data": {
      "text/plain": [
       "IT-Software / Software Services           9216\n",
       "Education / Teaching / Training           1322\n",
       "BPO / Call Centre / ITES                  1254\n",
       "Banking / Financial Services / Broking    1238\n",
       "Recruitment / Staffing                    1129\n",
       "                                          ... \n",
       "Brewery / Distillery                         4\n",
       "Medical Devices / Equipments                 4\n",
       "Pulp and Paper                               2\n",
       "Broadcasting                                 1\n",
       "Leather                                      1\n",
       "Name: industry, Length: 63, dtype: int64"
      ]
     },
     "execution_count": 30,
     "metadata": {},
     "output_type": "execute_result"
    }
   ],
   "source": [
    "# analysis and clean industry\n",
    "job['industry'].value_counts()"
   ]
  },
  {
   "cell_type": "code",
   "execution_count": 31,
   "metadata": {},
   "outputs": [],
   "source": [
    "job['industry'].fillna('IT-Software / Software Services', inplace = True) "
   ]
  },
  {
   "cell_type": "code",
   "execution_count": 32,
   "metadata": {},
   "outputs": [
    {
     "data": {
      "text/plain": [
       "63"
      ]
     },
     "execution_count": 32,
     "metadata": {},
     "output_type": "execute_result"
    }
   ],
   "source": [
    "job['industry'].nunique()"
   ]
  },
  {
   "cell_type": "code",
   "execution_count": 33,
   "metadata": {},
   "outputs": [
    {
     "data": {
      "text/plain": [
       "IT-Software / Software Services           9217\n",
       "Education / Teaching / Training           1322\n",
       "BPO / Call Centre / ITES                  1254\n",
       "Banking / Financial Services / Broking    1238\n",
       "Recruitment / Staffing                    1129\n",
       "                                          ... \n",
       "Brewery / Distillery                         4\n",
       "Medical Devices / Equipments                 4\n",
       "Pulp and Paper                               2\n",
       "Broadcasting                                 1\n",
       "Leather                                      1\n",
       "Name: industry, Length: 63, dtype: int64"
      ]
     },
     "execution_count": 33,
     "metadata": {},
     "output_type": "execute_result"
    }
   ],
   "source": [
    "job['industry'].value_counts()"
   ]
  },
  {
   "cell_type": "markdown",
   "metadata": {},
   "source": [
    "### Generated both enumeration and OneHotEncoder for industry. \n",
    "* Initially decided to go with enumeration to match resumes\n",
    "* **Decision : As I needed text for vectorization later, so kept it as is without enumeration or One-hot-encode**"
   ]
  },
  {
   "cell_type": "code",
   "execution_count": null,
   "metadata": {},
   "outputs": [],
   "source": [
    "#######job['industry_enum'] = pd.factorize(job['industry'])[0] + 1  - enumeration\n",
    "#### need to OneHotEncode industry....\n",
    "from sklearn.preprocessing import OneHotEncoder\n",
    "\n",
    "s = job['industry'].str.split('/').explode()\n",
    "encoder = OneHotEncoder()\n",
    "encoded = encoder.fit_transform(s.values[:, None])\n",
    "one_hot_df = pd.DataFrame(encoded.toarray(), columns=np.ravel(encoder.categories_), dtype='int') \\\n",
    "                .groupby(s.index) \\\n",
    "                .sum()"
   ]
  },
  {
   "cell_type": "code",
   "execution_count": 295,
   "metadata": {},
   "outputs": [
    {
     "data": {
      "text/html": [
       "<div>\n",
       "<style scoped>\n",
       "    .dataframe tbody tr th:only-of-type {\n",
       "        vertical-align: middle;\n",
       "    }\n",
       "\n",
       "    .dataframe tbody tr th {\n",
       "        vertical-align: top;\n",
       "    }\n",
       "\n",
       "    .dataframe thead th {\n",
       "        text-align: right;\n",
       "    }\n",
       "</style>\n",
       "<table border=\"1\" class=\"dataframe\">\n",
       "  <thead>\n",
       "    <tr style=\"text-align: right;\">\n",
       "      <th></th>\n",
       "      <th></th>\n",
       "      <th>Accessories</th>\n",
       "      <th>Aerospace Firms</th>\n",
       "      <th>Air Conditioning</th>\n",
       "      <th>Airlines</th>\n",
       "      <th>Analytics</th>\n",
       "      <th>Appliances</th>\n",
       "      <th>Auto Anciliary</th>\n",
       "      <th>Auto Components</th>\n",
       "      <th>Automation</th>\n",
       "      <th>...</th>\n",
       "      <th>Security</th>\n",
       "      <th>Semiconductors</th>\n",
       "      <th>Shipping</th>\n",
       "      <th>Strategy</th>\n",
       "      <th>Telecom</th>\n",
       "      <th>Textiles</th>\n",
       "      <th>Travel</th>\n",
       "      <th>Tyres</th>\n",
       "      <th>Water Treatment</th>\n",
       "      <th>Wellness</th>\n",
       "    </tr>\n",
       "  </thead>\n",
       "  <tbody>\n",
       "    <tr>\n",
       "      <th>0</th>\n",
       "      <td>0</td>\n",
       "      <td>0</td>\n",
       "      <td>0</td>\n",
       "      <td>0</td>\n",
       "      <td>0</td>\n",
       "      <td>0</td>\n",
       "      <td>0</td>\n",
       "      <td>0</td>\n",
       "      <td>0</td>\n",
       "      <td>0</td>\n",
       "      <td>...</td>\n",
       "      <td>0</td>\n",
       "      <td>0</td>\n",
       "      <td>0</td>\n",
       "      <td>0</td>\n",
       "      <td>0</td>\n",
       "      <td>0</td>\n",
       "      <td>0</td>\n",
       "      <td>0</td>\n",
       "      <td>0</td>\n",
       "      <td>0</td>\n",
       "    </tr>\n",
       "    <tr>\n",
       "      <th>1</th>\n",
       "      <td>0</td>\n",
       "      <td>0</td>\n",
       "      <td>0</td>\n",
       "      <td>0</td>\n",
       "      <td>0</td>\n",
       "      <td>0</td>\n",
       "      <td>0</td>\n",
       "      <td>0</td>\n",
       "      <td>0</td>\n",
       "      <td>0</td>\n",
       "      <td>...</td>\n",
       "      <td>0</td>\n",
       "      <td>0</td>\n",
       "      <td>0</td>\n",
       "      <td>0</td>\n",
       "      <td>0</td>\n",
       "      <td>0</td>\n",
       "      <td>0</td>\n",
       "      <td>0</td>\n",
       "      <td>0</td>\n",
       "      <td>0</td>\n",
       "    </tr>\n",
       "    <tr>\n",
       "      <th>2</th>\n",
       "      <td>0</td>\n",
       "      <td>0</td>\n",
       "      <td>0</td>\n",
       "      <td>0</td>\n",
       "      <td>0</td>\n",
       "      <td>0</td>\n",
       "      <td>0</td>\n",
       "      <td>0</td>\n",
       "      <td>0</td>\n",
       "      <td>0</td>\n",
       "      <td>...</td>\n",
       "      <td>0</td>\n",
       "      <td>0</td>\n",
       "      <td>0</td>\n",
       "      <td>0</td>\n",
       "      <td>0</td>\n",
       "      <td>0</td>\n",
       "      <td>0</td>\n",
       "      <td>0</td>\n",
       "      <td>0</td>\n",
       "      <td>0</td>\n",
       "    </tr>\n",
       "    <tr>\n",
       "      <th>3</th>\n",
       "      <td>0</td>\n",
       "      <td>0</td>\n",
       "      <td>0</td>\n",
       "      <td>0</td>\n",
       "      <td>0</td>\n",
       "      <td>0</td>\n",
       "      <td>0</td>\n",
       "      <td>0</td>\n",
       "      <td>0</td>\n",
       "      <td>0</td>\n",
       "      <td>...</td>\n",
       "      <td>0</td>\n",
       "      <td>0</td>\n",
       "      <td>0</td>\n",
       "      <td>0</td>\n",
       "      <td>0</td>\n",
       "      <td>0</td>\n",
       "      <td>0</td>\n",
       "      <td>0</td>\n",
       "      <td>0</td>\n",
       "      <td>0</td>\n",
       "    </tr>\n",
       "    <tr>\n",
       "      <th>4</th>\n",
       "      <td>0</td>\n",
       "      <td>0</td>\n",
       "      <td>0</td>\n",
       "      <td>0</td>\n",
       "      <td>0</td>\n",
       "      <td>0</td>\n",
       "      <td>0</td>\n",
       "      <td>0</td>\n",
       "      <td>0</td>\n",
       "      <td>0</td>\n",
       "      <td>...</td>\n",
       "      <td>0</td>\n",
       "      <td>0</td>\n",
       "      <td>0</td>\n",
       "      <td>0</td>\n",
       "      <td>0</td>\n",
       "      <td>0</td>\n",
       "      <td>0</td>\n",
       "      <td>0</td>\n",
       "      <td>0</td>\n",
       "      <td>0</td>\n",
       "    </tr>\n",
       "  </tbody>\n",
       "</table>\n",
       "<p>5 rows × 142 columns</p>\n",
       "</div>"
      ],
      "text/plain": [
       "       Accessories   Aerospace Firms   Air Conditioning   Airlines   \\\n",
       "0  0             0                 0                  0           0   \n",
       "1  0             0                 0                  0           0   \n",
       "2  0             0                 0                  0           0   \n",
       "3  0             0                 0                  0           0   \n",
       "4  0             0                 0                  0           0   \n",
       "\n",
       "    Analytics   Appliances    Auto Anciliary    Auto Components   Automation  \\\n",
       "0           0             0                 0                 0            0   \n",
       "1           0             0                 0                 0            0   \n",
       "2           0             0                 0                 0            0   \n",
       "3           0             0                 0                 0            0   \n",
       "4           0             0                 0                 0            0   \n",
       "\n",
       "   ...  Security   Semiconductors   Shipping   Strategy   Telecom  Textiles   \\\n",
       "0  ...          0                0          0          0        0          0   \n",
       "1  ...          0                0          0          0        0          0   \n",
       "2  ...          0                0          0          0        0          0   \n",
       "3  ...          0                0          0          0        0          0   \n",
       "4  ...          0                0          0          0        0          0   \n",
       "\n",
       "   Travel   Tyres  Water Treatment   Wellness   \n",
       "0        0      0                 0          0  \n",
       "1        0      0                 0          0  \n",
       "2        0      0                 0          0  \n",
       "3        0      0                 0          0  \n",
       "4        0      0                 0          0  \n",
       "\n",
       "[5 rows x 142 columns]"
      ]
     },
     "execution_count": 295,
     "metadata": {},
     "output_type": "execute_result"
    }
   ],
   "source": [
    "one_hot_df.head()"
   ]
  },
  {
   "cell_type": "markdown",
   "metadata": {},
   "source": [
    "#########################################################################\n",
    "##  d. Job Title\n",
    "#########################################################################"
   ]
  },
  {
   "cell_type": "code",
   "execution_count": 49,
   "metadata": {},
   "outputs": [],
   "source": [
    "job['jobtitle'] = job['jobtitle'].str.lower()"
   ]
  },
  {
   "cell_type": "code",
   "execution_count": 50,
   "metadata": {},
   "outputs": [
    {
     "data": {
      "text/plain": [
       "17177"
      ]
     },
     "execution_count": 50,
     "metadata": {},
     "output_type": "execute_result"
    }
   ],
   "source": [
    "job['jobtitle'].nunique()"
   ]
  },
  {
   "cell_type": "code",
   "execution_count": 296,
   "metadata": {},
   "outputs": [
    {
     "data": {
      "text/plain": [
       "business development manager                                     101\n",
       "business development executive                                    96\n",
       "software engineer                                                 88\n",
       "android developer                                                 77\n",
       "php developer                                                     72\n",
       "                                                                ... \n",
       "software development team lead                                     1\n",
       "dipp electrical engineering walk in 23 may 2016 to 4 jun 2016      1\n",
       "in- house legal counsel- outbound contracts- it services           1\n",
       "engineer r d                                                       1\n",
       "practice head                                                      1\n",
       "Name: jobtitle, Length: 17177, dtype: int64"
      ]
     },
     "execution_count": 296,
     "metadata": {},
     "output_type": "execute_result"
    }
   ],
   "source": [
    "job['jobtitle'].value_counts()"
   ]
  },
  {
   "cell_type": "code",
   "execution_count": 11,
   "metadata": {},
   "outputs": [
    {
     "data": {
      "text/plain": [
       "Text(0, 0.5, 'Number of Jobs')"
      ]
     },
     "execution_count": 11,
     "metadata": {},
     "output_type": "execute_result"
    },
    {
     "data": {
      "image/png": "[encoded data removed]",
      "text/plain": [
       "<Figure size 432x288 with 1 Axes>"
      ]
     },
     "metadata": {
      "needs_background": "light"
     },
     "output_type": "display_data"
    }
   ],
   "source": [
    "job['jobtitle'].value_counts().head(20).plot(cmap='coolwarm',kind='bar')\n",
    "plt.xlabel(\"Job Title\")\n",
    "#plt.xticks(rotation=0)\n",
    "plt.ylabel(\"Number of Jobs\")"
   ]
  },
  {
   "cell_type": "markdown",
   "metadata": {},
   "source": [
    "#########################################################################\n",
    "##  e. Skills\n",
    "#########################################################################"
   ]
  },
  {
   "cell_type": "code",
   "execution_count": 56,
   "metadata": {},
   "outputs": [
    {
     "data": {
      "text/plain": [
       "array(['ITES', 'Marketing', 'IT Software - Application Programming',\n",
       "       'Accounts', 'Production', 'Sales', 'IT Software - Other',\n",
       "       'Executive Assistant', 'IT Software - Mobile',\n",
       "       'Engineering Design', 'Financial Services', 'Hotels',\n",
       "       'IT Software - QA & Testing', 'HR', 'Supply Chain',\n",
       "       'IT Software - Network Administration', 'Architecture', 'Legal',\n",
       "       'Site Engineering', 'Journalism', nan, 'IT Software - DBA',\n",
       "       'Strategy', 'Medical', 'Design', 'Defence Forces',\n",
       "       'IT Software - Mainframe', 'IT Software - Telecom Software',\n",
       "       'IT Software - Embedded', 'IT Software - Middleware', 'Teaching',\n",
       "       'IT Software - System Programming',\n",
       "       'IT Software - Client/Server Programming', 'Travel',\n",
       "       'IT Software - eCommerce', 'TV', 'Fashion Designing',\n",
       "       'IT Software - ERP', 'IT Hardware',\n",
       "       'Analytics & Business Intelligence', 'Beauty/Fitness/Spa Services',\n",
       "       'Top Management', 'Export', 'IT Software - Systems', 'Packaging',\n",
       "       'Shipping'], dtype=object)"
      ]
     },
     "execution_count": 56,
     "metadata": {},
     "output_type": "execute_result"
    }
   ],
   "source": [
    "j1['skills'].unique() # could have enumerated but I need as is test for my model"
   ]
  },
  {
   "cell_type": "code",
   "execution_count": 57,
   "metadata": {},
   "outputs": [
    {
     "data": {
      "text/plain": [
       "company                   0\n",
       "education              1992\n",
       "experience                0\n",
       "industry                  0\n",
       "jobdescription            0\n",
       "joblocation_address     497\n",
       "jobtitle                  0\n",
       "payrate                  93\n",
       "postdate                 19\n",
       "skills                  524\n",
       "experience_range          0\n",
       "industry_enum             0\n",
       "dtype: int64"
      ]
     },
     "execution_count": 57,
     "metadata": {},
     "output_type": "execute_result"
    }
   ],
   "source": [
    "job.isnull().sum()"
   ]
  },
  {
   "cell_type": "code",
   "execution_count": 58,
   "metadata": {},
   "outputs": [
    {
     "data": {
      "text/plain": [
       "45"
      ]
     },
     "execution_count": 58,
     "metadata": {},
     "output_type": "execute_result"
    }
   ],
   "source": [
    "job['skills'].nunique()"
   ]
  },
  {
   "cell_type": "code",
   "execution_count": 59,
   "metadata": {},
   "outputs": [],
   "source": [
    "job['skills'].fillna('others', inplace = True) "
   ]
  },
  {
   "cell_type": "markdown",
   "metadata": {},
   "source": [
    "#########################################################################\n",
    "##  f. Payrate\n",
    "\n",
    "**in case needed, i have converted object to float  and perform Enumeration:**\n",
    "\n",
    "- unknown = 0 \n",
    "- depend on candidate/ negotiable = 1\n",
    "- if given, = higher limit\n",
    "\n",
    "#########################################################################\n"
   ]
  },
  {
   "cell_type": "code",
   "execution_count": 60,
   "metadata": {},
   "outputs": [
    {
     "data": {
      "text/plain": [
       "array(['1,50,000 - 2,25,000 P.A', '1,50,000 - 2,50,000 P.A. 20000',\n",
       "       'Not Disclosed by Recruiter', ...,\n",
       "       '35,00,000 - 50,00,000 P.A. Compensation: Best in Industry',\n",
       "       '15,00,000 - 30,00,000 P.A. Salary is open',\n",
       "       '8,50,000 - 14,00,000 P.A'], dtype=object)"
      ]
     },
     "execution_count": 60,
     "metadata": {},
     "output_type": "execute_result"
    }
   ],
   "source": [
    "job['payrate'].unique()"
   ]
  },
  {
   "cell_type": "code",
   "execution_count": 61,
   "metadata": {},
   "outputs": [],
   "source": [
    "job['payrate'].fillna('Not Disclosed by Recruiter', inplace = True) "
   ]
  },
  {
   "cell_type": "code",
   "execution_count": 62,
   "metadata": {},
   "outputs": [
    {
     "data": {
      "text/plain": [
       "1848"
      ]
     },
     "execution_count": 62,
     "metadata": {},
     "output_type": "execute_result"
    }
   ],
   "source": [
    "job['payrate'].nunique()"
   ]
  },
  {
   "cell_type": "code",
   "execution_count": 63,
   "metadata": {},
   "outputs": [],
   "source": [
    "job['payrate']=job['payrate'].str.lower()\n"
   ]
  },
  {
   "cell_type": "code",
   "execution_count": 64,
   "metadata": {},
   "outputs": [
    {
     "data": {
      "text/plain": [
       "company                   0\n",
       "education              1992\n",
       "experience                0\n",
       "industry                  0\n",
       "jobdescription            0\n",
       "joblocation_address     497\n",
       "jobtitle                  0\n",
       "payrate                   0\n",
       "postdate                 19\n",
       "skills                    0\n",
       "experience_range          0\n",
       "industry_enum             0\n",
       "dtype: int64"
      ]
     },
     "execution_count": 64,
     "metadata": {},
     "output_type": "execute_result"
    }
   ],
   "source": [
    "job.isnull().sum()"
   ]
  },
  {
   "cell_type": "code",
   "execution_count": 65,
   "metadata": {},
   "outputs": [],
   "source": [
    "# read each row \n",
    "# set salary = actual if given, 0 - not given, 1 - based on candidate\n",
    "amt = ''\n",
    "for index, rows in job.iterrows():\n",
    "    #pick education col and read it as JSON \n",
    "    pay = job['payrate'][index]\n",
    "    try: pay = re.sub(r'[^\\w\\s]','',pay)\n",
    "    except: continue\n",
    "    #print(pay)\n",
    "    if re.search('not disclosed by recruiter', pay):\n",
    "        job.loc[index,'Salary_range'] = 0\n",
    "    elif re.search('^\\D*\\d+\\D+(\\d+)', pay):\n",
    "        amt = re.findall('^\\D*\\d+\\D+(\\d+)', pay)\n",
    "        #amt= int(float(amt))\n",
    "        #print(amt[0])\n",
    "        job.loc[index,'Salary_range'] = amt[0]    \n",
    "    elif re.search('best|negotiable|good|no bar|not a constra|based|discuss|competitive|excellent|as per|generous', pay):\n",
    "        job.loc[index,'Salary_range'] = 1\n",
    "    else:\n",
    "        job.loc[index,'Salary_range'] = 0"
   ]
  },
  {
   "cell_type": "code",
   "execution_count": 66,
   "metadata": {},
   "outputs": [],
   "source": [
    "job['Salary_range']=job['Salary_range'].astype('float')"
   ]
  },
  {
   "cell_type": "markdown",
   "metadata": {},
   "source": [
    "#########################################################################\n",
    "##  g. Education\n",
    "\n",
    "* **custom feature same as resume for better match**\n",
    "\n",
    "#########################################################################"
   ]
  },
  {
   "cell_type": "code",
   "execution_count": 58,
   "metadata": {},
   "outputs": [],
   "source": [
    "job['education'].fillna('any graduate', inplace = True) # any nulls - assuming UG is min requirement of most jobs"
   ]
  },
  {
   "cell_type": "code",
   "execution_count": 59,
   "metadata": {},
   "outputs": [],
   "source": [
    "for index, rows in job.iterrows():\n",
    "    #pick education col and read it as JSON \n",
    "    edu = job['education'][index]\n",
    "    edu= edu.lower()\n",
    "    #print(edu)\n",
    "    #for ug1 in ug:       \n",
    "    if re.search('^ph.d|any doctorate', edu):\n",
    "        #print(\"Doctrate\")\n",
    "        job.loc[index,'is_doc'] = 1\n",
    "        job.loc[index,'is_postgrad'] = 1\n",
    "        job.loc[index,'is_grad'] = 1        \n",
    "    elif re.search(('^m|^pg|^post '), edu):\n",
    "        #print(\"Post-grad\")\n",
    "        job.loc[index,'is_doc'] = 0\n",
    "        job.loc[index,'is_postgrad'] = 1\n",
    "        job.loc[index,'is_grad'] = 1\n",
    "    elif re.search('^b|^ug|^u.g|any graduate', edu):\n",
    "        #print(\"Graduate\")\n",
    "        job.loc[index,'is_grad'] = 1\n",
    "        job.loc[index,'is_postgrad'] = 0\n",
    "        job.loc[index,'is_doc'] = 0"
   ]
  },
  {
   "cell_type": "code",
   "execution_count": 64,
   "metadata": {},
   "outputs": [
    {
     "name": "stdout",
     "output_type": "stream",
     "text": [
      "<class 'pandas.core.frame.DataFrame'>\n",
      "RangeIndex: 21996 entries, 0 to 21995\n",
      "Data columns (total 17 columns):\n",
      " #   Column               Non-Null Count  Dtype  \n",
      "---  ------               --------------  -----  \n",
      " 0   index                21996 non-null  int64  \n",
      " 1   company              21996 non-null  object \n",
      " 2   education            21996 non-null  object \n",
      " 3   experience           21996 non-null  int64  \n",
      " 4   industry             21996 non-null  object \n",
      " 5   jobdescription       21996 non-null  object \n",
      " 6   joblocation_address  21996 non-null  object \n",
      " 7   jobtitle             21996 non-null  object \n",
      " 8   payrate              21996 non-null  object \n",
      " 9   skills               21996 non-null  object \n",
      " 10  experience_range     21996 non-null  int64  \n",
      " 11  industry_enum        21996 non-null  int64  \n",
      " 12  Salary_range         21996 non-null  float64\n",
      " 13  j_id                 21996 non-null  int64  \n",
      " 14  is_grad              21996 non-null  float64\n",
      " 15  is_postgrad          21996 non-null  float64\n",
      " 16  is_doc               21996 non-null  float64\n",
      "dtypes: float64(4), int64(5), object(8)\n",
      "memory usage: 2.9+ MB\n"
     ]
    }
   ],
   "source": [
    "job.info()"
   ]
  },
  {
   "cell_type": "code",
   "execution_count": 61,
   "metadata": {},
   "outputs": [],
   "source": [
    "job['is_grad'].fillna(1, inplace = True)\n",
    "job['is_postgrad'].fillna(0, inplace = True)\n",
    "job['is_doc'].fillna(0, inplace = True)"
   ]
  },
  {
   "cell_type": "code",
   "execution_count": 65,
   "metadata": {},
   "outputs": [],
   "source": [
    "#job.to_csv('wip/sorted_job_new.csv',index=False)"
   ]
  },
  {
   "cell_type": "code",
   "execution_count": 70,
   "metadata": {},
   "outputs": [],
   "source": [
    "# need to drop post date\n",
    "#job.drop(job.columns[8], axis = 1, inplace = True)"
   ]
  },
  {
   "cell_type": "markdown",
   "metadata": {},
   "source": [
    "#########################################################################\n",
    "##  h. Job_location\n",
    "### Very important feature, as at some point I might need to filter down to jobs for location matching the resume location. \n",
    "\n",
    "### There were multiple discrepancies observed in location column.\n",
    "\n",
    "* Like some city, states, pincodes, nulls. I have to ensure one common format\n",
    "* For any missing/ number values, I choose to make it generic with India with code 1\n",
    "\n",
    "**So I decided to:**\n",
    "* get all location\n",
    "* map to respective states\n",
    "* provide them uniques location code (to match with resume location). \n",
    "\n",
    "**Challenge** - Location code should be same in job and resume dataset to make sense and match properly. \n",
    "\n",
    "\n",
    "## Created following datasets, and use the same for both datasets (resume and job)\n",
    "* **India-state-city dataset** used in jobs dataset. In resume, we are provided with States\n",
    "* **State - State-id dataset**\n",
    "\n",
    "#########################################################################"
   ]
  },
  {
   "cell_type": "code",
   "execution_count": 84,
   "metadata": {},
   "outputs": [],
   "source": [
    "job['joblocation_address'].fillna('India', inplace = True) "
   ]
  },
  {
   "cell_type": "code",
   "execution_count": 85,
   "metadata": {},
   "outputs": [
    {
     "name": "stdout",
     "output_type": "stream",
     "text": [
      "<class 'pandas.core.frame.DataFrame'>\n",
      "Int64Index: 21996 entries, 0 to 21999\n",
      "Data columns (total 15 columns):\n",
      " #   Column               Non-Null Count  Dtype  \n",
      "---  ------               --------------  -----  \n",
      " 0   company              21996 non-null  object \n",
      " 1   education            21996 non-null  object \n",
      " 2   experience           21996 non-null  int32  \n",
      " 3   industry             21996 non-null  object \n",
      " 4   jobdescription       21996 non-null  object \n",
      " 5   joblocation_address  21996 non-null  object \n",
      " 6   jobtitle             21996 non-null  object \n",
      " 7   payrate              21996 non-null  object \n",
      " 8   skills               21996 non-null  object \n",
      " 9   experience_range     21996 non-null  int64  \n",
      " 10  industry_enum        21996 non-null  int64  \n",
      " 11  Salary_range         21996 non-null  float64\n",
      " 12  is_grad              21996 non-null  float64\n",
      " 13  is_postgrad          21996 non-null  float64\n",
      " 14  is_doc               21996 non-null  float64\n",
      "dtypes: float64(4), int32(1), int64(2), object(8)\n",
      "memory usage: 3.2+ MB\n"
     ]
    }
   ],
   "source": [
    "job.info()"
   ]
  },
  {
   "cell_type": "code",
   "execution_count": 73,
   "metadata": {},
   "outputs": [],
   "source": [
    "#job_temp = job.copy()\n",
    "#job_temp.to_csv('wip/sorted_jobs_master.csv', index=False)"
   ]
  },
  {
   "cell_type": "code",
   "execution_count": 11,
   "metadata": {},
   "outputs": [],
   "source": [
    "#job = pd.read_csv('wip/sorted_jobs_master.csv')\n",
    "#adding index to job table\n",
    "job.reset_index(inplace=True)\n",
    "job['j_id'] = job.index"
   ]
  },
  {
   "cell_type": "code",
   "execution_count": 93,
   "metadata": {},
   "outputs": [
    {
     "name": "stdout",
     "output_type": "stream",
     "text": [
      "<class 'pandas.core.frame.DataFrame'>\n",
      "RangeIndex: 21996 entries, 0 to 21995\n",
      "Data columns (total 17 columns):\n",
      " #   Column               Non-Null Count  Dtype  \n",
      "---  ------               --------------  -----  \n",
      " 0   index                21996 non-null  int64  \n",
      " 1   company              21996 non-null  object \n",
      " 2   education            21996 non-null  object \n",
      " 3   experience           21996 non-null  int64  \n",
      " 4   industry             21996 non-null  object \n",
      " 5   jobdescription       21996 non-null  object \n",
      " 6   joblocation_address  21996 non-null  object \n",
      " 7   jobtitle             21996 non-null  object \n",
      " 8   payrate              21996 non-null  object \n",
      " 9   skills               21996 non-null  object \n",
      " 10  experience_range     21996 non-null  int64  \n",
      " 11  industry_enum        21996 non-null  int64  \n",
      " 12  Salary_range         21996 non-null  float64\n",
      " 13  is_grad              21996 non-null  float64\n",
      " 14  is_postgrad          21996 non-null  float64\n",
      " 15  is_doc               21996 non-null  float64\n",
      " 16  j_id                 21996 non-null  int64  \n",
      "dtypes: float64(4), int64(5), object(8)\n",
      "memory usage: 2.9+ MB\n"
     ]
    }
   ],
   "source": [
    "job.info()"
   ]
  },
  {
   "cell_type": "markdown",
   "metadata": {},
   "source": [
    "### Sorting joblocation_address to match Resume location"
   ]
  },
  {
   "cell_type": "code",
   "execution_count": 70,
   "metadata": {},
   "outputs": [
    {
     "data": {
      "text/plain": [
       "Bengaluru/Bangalore                                                                                     3775\n",
       "Mumbai                                                                                                  2348\n",
       "Bengaluru                                                                                               1453\n",
       "Hyderabad / Secunderabad                                                                                1246\n",
       "Chennai                                                                                                 1204\n",
       "                                                                                                        ... \n",
       "Hyderabad, Ahmedabad, Bengaluru Bangalore, Chennai, Delhi, Kolkata, Mumbai                                 1\n",
       "Delhi/NCR(National Capital Region) , Overseas                                                              1\n",
       "Chennai , Coimbatore , Ernakulam / Kochi/ Cochin                                                           1\n",
       "Ahmedabad , Bengaluru/Bangalore , Mumbai , Mumbai Suburbs , Chennai , Pune                                 1\n",
       "Chennai , Bengaluru/Bangalore , Coimbatore , Davangere , Dharwad , Ernakulam / Kochi/ Cochin , Hosur       1\n",
       "Name: joblocation_address, Length: 2330, dtype: int64"
      ]
     },
     "execution_count": 70,
     "metadata": {},
     "output_type": "execute_result"
    }
   ],
   "source": [
    "job['joblocation_address'].value_counts()"
   ]
  },
  {
   "cell_type": "markdown",
   "metadata": {},
   "source": [
    "### As seen there are multiple cities listed in job location, to match with resume:\n",
    "\n",
    "* I need to split column into multiple rows for each location\n",
    "* Get state for each city to match with resume\n",
    "* So, my new column 'location' should contain State or India if blank "
   ]
  },
  {
   "cell_type": "code",
   "execution_count": 148,
   "metadata": {},
   "outputs": [],
   "source": [
    "#step 1:\n",
    "#spliting multiple values in joblocation_address column to \n",
    "job = job.drop('joblocation_address', axis=1).join(job['joblocation_address'].str.split(',', expand=True).stack().reset_index(level=1, drop=True).rename('location'))"
   ]
  },
  {
   "cell_type": "code",
   "execution_count": 150,
   "metadata": {},
   "outputs": [],
   "source": [
    "# step 2: \n",
    "##getting only first word from location as we see there is Delhi NCR\n",
    "job['location'] = job['location'].str.split().str[0].str.strip()\n",
    "job['location'] = job['location'].str.split('/').str[0].str.strip()"
   ]
  },
  {
   "cell_type": "markdown",
   "metadata": {},
   "source": [
    "#### Now, I am going to get state, city data from India "
   ]
  },
  {
   "cell_type": "code",
   "execution_count": 1,
   "metadata": {},
   "outputs": [],
   "source": [
    "state_city = pd.read_csv('india-city-state.csv') # reading city state database"
   ]
  },
  {
   "cell_type": "code",
   "execution_count": 152,
   "metadata": {},
   "outputs": [
    {
     "data": {
      "text/html": [
       "<div>\n",
       "<style scoped>\n",
       "    .dataframe tbody tr th:only-of-type {\n",
       "        vertical-align: middle;\n",
       "    }\n",
       "\n",
       "    .dataframe tbody tr th {\n",
       "        vertical-align: top;\n",
       "    }\n",
       "\n",
       "    .dataframe thead th {\n",
       "        text-align: right;\n",
       "    }\n",
       "</style>\n",
       "<table border=\"1\" class=\"dataframe\">\n",
       "  <thead>\n",
       "    <tr style=\"text-align: right;\">\n",
       "      <th></th>\n",
       "      <th>city_id</th>\n",
       "      <th>city_name</th>\n",
       "      <th>state</th>\n",
       "    </tr>\n",
       "  </thead>\n",
       "  <tbody>\n",
       "    <tr>\n",
       "      <th>0</th>\n",
       "      <td>1</td>\n",
       "      <td>Kolhapur</td>\n",
       "      <td>Maharashtra</td>\n",
       "    </tr>\n",
       "    <tr>\n",
       "      <th>1</th>\n",
       "      <td>2</td>\n",
       "      <td>Port Blair</td>\n",
       "      <td>Andaman &amp; Nicobar Islands</td>\n",
       "    </tr>\n",
       "    <tr>\n",
       "      <th>2</th>\n",
       "      <td>3</td>\n",
       "      <td>Adilabad</td>\n",
       "      <td>Andhra Pradesh</td>\n",
       "    </tr>\n",
       "    <tr>\n",
       "      <th>3</th>\n",
       "      <td>4</td>\n",
       "      <td>Adoni</td>\n",
       "      <td>Andhra Pradesh</td>\n",
       "    </tr>\n",
       "    <tr>\n",
       "      <th>4</th>\n",
       "      <td>5</td>\n",
       "      <td>Amadalavalasa</td>\n",
       "      <td>Andhra Pradesh</td>\n",
       "    </tr>\n",
       "  </tbody>\n",
       "</table>\n",
       "</div>"
      ],
      "text/plain": [
       "   city_id      city_name                      state\n",
       "0        1       Kolhapur                Maharashtra\n",
       "1        2     Port Blair  Andaman & Nicobar Islands\n",
       "2        3       Adilabad             Andhra Pradesh\n",
       "3        4          Adoni             Andhra Pradesh\n",
       "4        5  Amadalavalasa             Andhra Pradesh"
      ]
     },
     "execution_count": 152,
     "metadata": {},
     "output_type": "execute_result"
    }
   ],
   "source": [
    "# step 3:\n",
    "##get states for each location to match resume\n",
    "state_city.head()"
   ]
  },
  {
   "cell_type": "code",
   "execution_count": null,
   "metadata": {},
   "outputs": [],
   "source": [
    "#job['location'] = pd.to_numeric(job.location, errors='coerce').fillna(0)\n",
    "job['location']=job['location'].replace(regex='([a-zA-Z])', value=0)\n",
    "job['location'].replace('-', 0,inplace=True)"
   ]
  },
  {
   "cell_type": "code",
   "execution_count": 153,
   "metadata": {},
   "outputs": [],
   "source": [
    "#renaming for mapping - may not be needed but for clarity\n",
    "state_city.rename(columns={'city_name': 'location'}, inplace=True)\n",
    "\n",
    "#dropping city-id\n",
    "#state_city.drop(state_city.columns[[0]], axis = 1, inplace = True) \n",
    "\n",
    "#creating city state dict\n",
    "location_dict = pd.Series(state_city.state.values,index=state_city.location).to_dict()"
   ]
  },
  {
   "cell_type": "code",
   "execution_count": 155,
   "metadata": {},
   "outputs": [],
   "source": [
    "# Finally replaced locations as states\n",
    "job = job.replace({\"location\": location_dict}) "
   ]
  },
  {
   "cell_type": "code",
   "execution_count": 4,
   "metadata": {},
   "outputs": [
    {
     "data": {
      "text/plain": [
       "16    10089\n",
       "20     7432\n",
       "2      4908\n",
       "9      4280\n",
       "30     3647\n",
       "0      3627\n",
       "12     2157\n",
       "11      619\n",
       "33      554\n",
       "1       535\n",
       "27      255\n",
       "31      228\n",
       "28      143\n",
       "19      115\n",
       "17       69\n",
       "32       50\n",
       "4        45\n",
       "5        41\n",
       "15       38\n",
       "6        33\n",
       "25       30\n",
       "26       15\n",
       "14       11\n",
       "13       10\n",
       "18        4\n",
       "10        4\n",
       "24        1\n",
       "3         1\n",
       "Name: location, dtype: int64"
      ]
     },
     "execution_count": 4,
     "metadata": {},
     "output_type": "execute_result"
    }
   ],
   "source": [
    "job['location'].value_counts()"
   ]
  },
  {
   "cell_type": "code",
   "execution_count": 5,
   "metadata": {},
   "outputs": [],
   "source": [
    "#Adding loc id \n",
    "state = pd.read_csv('state.csv')"
   ]
  },
  {
   "cell_type": "code",
   "execution_count": 160,
   "metadata": {},
   "outputs": [],
   "source": [
    "#creating city state dict\n",
    "state_dict = pd.Series(state.State_id.values,index=state.State).to_dict()"
   ]
  },
  {
   "cell_type": "code",
   "execution_count": 163,
   "metadata": {},
   "outputs": [],
   "source": [
    "job['location'].fillna('India', inplace = True) "
   ]
  },
  {
   "cell_type": "code",
   "execution_count": 166,
   "metadata": {},
   "outputs": [],
   "source": [
    "# Finally replaced locations as states\n",
    "job = job.replace({\"location\": state_dict}) "
   ]
  },
  {
   "cell_type": "code",
   "execution_count": 169,
   "metadata": {},
   "outputs": [
    {
     "data": {
      "text/plain": [
       "16            10089\n",
       "20             7432\n",
       "2              4908\n",
       "9              4280\n",
       "30             3647\n",
       "              ...  \n",
       "Guindy            1\n",
       "bolpur            1\n",
       "Bangladesh        1\n",
       "Mauritius         1\n",
       "morena            1\n",
       "Name: location, Length: 220, dtype: int64"
      ]
     },
     "execution_count": 169,
     "metadata": {},
     "output_type": "execute_result"
    }
   ],
   "source": [
    "job['location'].value_counts()"
   ]
  },
  {
   "cell_type": "code",
   "execution_count": 7,
   "metadata": {},
   "outputs": [],
   "source": [
    "#creating city state dict\n",
    "state_dict_1 = pd.Series(state.State.values,index=state.State_id).to_dict()\n",
    "job['loc_name'] = job['location'].map(state_dict_1)"
   ]
  },
  {
   "cell_type": "code",
   "execution_count": 5,
   "metadata": {},
   "outputs": [
    {
     "data": {
      "text/plain": [
       "Karnataka            10089\n",
       "Maharashtra           7432\n",
       "Andhra Pradesh        4908\n",
       "Delhi                 4280\n",
       "Tamil Nadu            3647\n",
       "india                 3627\n",
       "Haryana               2157\n",
       "Gujarat                619\n",
       "West Bengal            554\n",
       "India                  535\n",
       "Punjab                 255\n",
       "Uttar Pradesh          228\n",
       "Rajasthan              143\n",
       "Madhya Pradesh         115\n",
       "Kerala                  69\n",
       "Uttarakhand             50\n",
       "Assam                   45\n",
       "Bihar                   41\n",
       "Jharkhand               38\n",
       "Chhattisgarh            33\n",
       "Orissa                  30\n",
       "Pondicherry             15\n",
       "Jammu & Kashmir         11\n",
       "Himachal Pradesh        10\n",
       "Goa                      4\n",
       "Lakshadweep              4\n",
       "Nagaland                 1\n",
       "Arunachal Pradesh        1\n",
       "Name: loc_name, dtype: int64"
      ]
     },
     "execution_count": 5,
     "metadata": {},
     "output_type": "execute_result"
    }
   ],
   "source": [
    "job['loc_name'].value_counts()"
   ]
  },
  {
   "cell_type": "code",
   "execution_count": 6,
   "metadata": {},
   "outputs": [
    {
     "data": {
      "text/plain": [
       "Text(0, 0.5, 'Number of Jobs')"
      ]
     },
     "execution_count": 6,
     "metadata": {},
     "output_type": "execute_result"
    },
    {
     "data": {
      "image/png": "[encoded data removed]",
      "text/plain": [
       "<Figure size 432x288 with 1 Axes>"
      ]
     },
     "metadata": {
      "needs_background": "light"
     },
     "output_type": "display_data"
    }
   ],
   "source": [
    "job['loc_name'].value_counts().plot(cmap='Greens_r',kind='bar')\n",
    "plt.xlabel(\"Job Locations\")\n",
    "#plt.xticks(rotation=0)\n",
    "plt.ylabel(\"Number of Jobs\")"
   ]
  },
  {
   "cell_type": "code",
   "execution_count": 15,
   "metadata": {},
   "outputs": [],
   "source": [
    "x =  job.copy()\n",
    "x.to_csv('WIP/sorted_jobs_master_new.csv', index=False)"
   ]
  },
  {
   "cell_type": "code",
   "execution_count": 3,
   "metadata": {},
   "outputs": [
    {
     "data": {
      "text/html": [
       "<div>\n",
       "<style scoped>\n",
       "    .dataframe tbody tr th:only-of-type {\n",
       "        vertical-align: middle;\n",
       "    }\n",
       "\n",
       "    .dataframe tbody tr th {\n",
       "        vertical-align: top;\n",
       "    }\n",
       "\n",
       "    .dataframe thead th {\n",
       "        text-align: right;\n",
       "    }\n",
       "</style>\n",
       "<table border=\"1\" class=\"dataframe\">\n",
       "  <thead>\n",
       "    <tr style=\"text-align: right;\">\n",
       "      <th></th>\n",
       "      <th>company</th>\n",
       "      <th>education</th>\n",
       "      <th>experience</th>\n",
       "      <th>industry</th>\n",
       "      <th>jobdescription</th>\n",
       "      <th>jobtitle</th>\n",
       "      <th>payrate</th>\n",
       "      <th>skills</th>\n",
       "      <th>experience_range</th>\n",
       "      <th>industry_enum</th>\n",
       "      <th>Salary_range</th>\n",
       "      <th>j_id</th>\n",
       "      <th>is_grad</th>\n",
       "      <th>is_postgrad</th>\n",
       "      <th>is_doc</th>\n",
       "      <th>location</th>\n",
       "      <th>loc_name</th>\n",
       "    </tr>\n",
       "  </thead>\n",
       "  <tbody>\n",
       "    <tr>\n",
       "      <th>0</th>\n",
       "      <td>MM Media Pvt Ltd</td>\n",
       "      <td>UG: B.Tech/B.E. - Any Specialization PG:Any Po...</td>\n",
       "      <td>0</td>\n",
       "      <td>Media / Entertainment / Internet</td>\n",
       "      <td>Qualifications: - == &gt; 10th To Graduation &amp; A...</td>\n",
       "      <td>walkin data entry operator (night shift)</td>\n",
       "      <td>1,50,000 - 2,25,000 p.a</td>\n",
       "      <td>ITES</td>\n",
       "      <td>0</td>\n",
       "      <td>1</td>\n",
       "      <td>225000.0</td>\n",
       "      <td>0</td>\n",
       "      <td>1</td>\n",
       "      <td>0</td>\n",
       "      <td>0</td>\n",
       "      <td>30</td>\n",
       "      <td>Tamil Nadu</td>\n",
       "    </tr>\n",
       "    <tr>\n",
       "      <th>1</th>\n",
       "      <td>find live infotech</td>\n",
       "      <td>UG: B.Tech/B.E. - Any Specialization PG:MBA/PG...</td>\n",
       "      <td>0</td>\n",
       "      <td>Advertising / PR / MR / Event Management</td>\n",
       "      <td>Qualifications: - == &gt; 10th To Graduation &amp; A...</td>\n",
       "      <td>work based onhome based part time.</td>\n",
       "      <td>1,50,000 - 2,50,000 p.a. 20000</td>\n",
       "      <td>Marketing</td>\n",
       "      <td>0</td>\n",
       "      <td>2</td>\n",
       "      <td>250000.0</td>\n",
       "      <td>1</td>\n",
       "      <td>1</td>\n",
       "      <td>0</td>\n",
       "      <td>0</td>\n",
       "      <td>30</td>\n",
       "      <td>Tamil Nadu</td>\n",
       "    </tr>\n",
       "    <tr>\n",
       "      <th>2</th>\n",
       "      <td>Softtech Career Infosystem Pvt. Ltd</td>\n",
       "      <td>UG: Any Graduate - Any Specialization PG:Any P...</td>\n",
       "      <td>4</td>\n",
       "      <td>IT-Software / Software Services</td>\n",
       "      <td>- as a developer in providing application des...</td>\n",
       "      <td>pl/sql developer - sql</td>\n",
       "      <td>not disclosed by recruiter</td>\n",
       "      <td>IT Software - Application Programming</td>\n",
       "      <td>1</td>\n",
       "      <td>3</td>\n",
       "      <td>0.0</td>\n",
       "      <td>2</td>\n",
       "      <td>1</td>\n",
       "      <td>0</td>\n",
       "      <td>0</td>\n",
       "      <td>16</td>\n",
       "      <td>Karnataka</td>\n",
       "    </tr>\n",
       "    <tr>\n",
       "      <th>3</th>\n",
       "      <td>Onboard HRServices LLP</td>\n",
       "      <td>UG: Any Graduate - Any Specialization PG:CA Do...</td>\n",
       "      <td>11</td>\n",
       "      <td>Banking / Financial Services / Broking</td>\n",
       "      <td>- Involved with all stages of indirect taxati...</td>\n",
       "      <td>manager/ad/partner - indirect tax - ca</td>\n",
       "      <td>not disclosed by recruiter</td>\n",
       "      <td>Accounts</td>\n",
       "      <td>3</td>\n",
       "      <td>4</td>\n",
       "      <td>0.0</td>\n",
       "      <td>3</td>\n",
       "      <td>1</td>\n",
       "      <td>0</td>\n",
       "      <td>0</td>\n",
       "      <td>20</td>\n",
       "      <td>Maharashtra</td>\n",
       "    </tr>\n",
       "    <tr>\n",
       "      <th>4</th>\n",
       "      <td>Onboard HRServices LLP</td>\n",
       "      <td>UG: Any Graduate - Any Specialization PG:CA Do...</td>\n",
       "      <td>11</td>\n",
       "      <td>Banking / Financial Services / Broking</td>\n",
       "      <td>- Involved with all stages of indirect taxati...</td>\n",
       "      <td>manager/ad/partner - indirect tax - ca</td>\n",
       "      <td>not disclosed by recruiter</td>\n",
       "      <td>Accounts</td>\n",
       "      <td>3</td>\n",
       "      <td>4</td>\n",
       "      <td>0.0</td>\n",
       "      <td>4</td>\n",
       "      <td>1</td>\n",
       "      <td>0</td>\n",
       "      <td>0</td>\n",
       "      <td>16</td>\n",
       "      <td>Karnataka</td>\n",
       "    </tr>\n",
       "  </tbody>\n",
       "</table>\n",
       "</div>"
      ],
      "text/plain": [
       "                               company  \\\n",
       "0                     MM Media Pvt Ltd   \n",
       "1                   find live infotech   \n",
       "2  Softtech Career Infosystem Pvt. Ltd   \n",
       "3               Onboard HRServices LLP   \n",
       "4               Onboard HRServices LLP   \n",
       "\n",
       "                                           education  experience  \\\n",
       "0  UG: B.Tech/B.E. - Any Specialization PG:Any Po...           0   \n",
       "1  UG: B.Tech/B.E. - Any Specialization PG:MBA/PG...           0   \n",
       "2  UG: Any Graduate - Any Specialization PG:Any P...           4   \n",
       "3  UG: Any Graduate - Any Specialization PG:CA Do...          11   \n",
       "4  UG: Any Graduate - Any Specialization PG:CA Do...          11   \n",
       "\n",
       "                                   industry  \\\n",
       "0          Media / Entertainment / Internet   \n",
       "1  Advertising / PR / MR / Event Management   \n",
       "2           IT-Software / Software Services   \n",
       "3    Banking / Financial Services / Broking   \n",
       "4    Banking / Financial Services / Broking   \n",
       "\n",
       "                                      jobdescription  \\\n",
       "0   Qualifications: - == > 10th To Graduation & A...   \n",
       "1   Qualifications: - == > 10th To Graduation & A...   \n",
       "2   - as a developer in providing application des...   \n",
       "3   - Involved with all stages of indirect taxati...   \n",
       "4   - Involved with all stages of indirect taxati...   \n",
       "\n",
       "                                   jobtitle                         payrate  \\\n",
       "0  walkin data entry operator (night shift)         1,50,000 - 2,25,000 p.a   \n",
       "1        work based onhome based part time.  1,50,000 - 2,50,000 p.a. 20000   \n",
       "2                    pl/sql developer - sql      not disclosed by recruiter   \n",
       "3    manager/ad/partner - indirect tax - ca      not disclosed by recruiter   \n",
       "4    manager/ad/partner - indirect tax - ca      not disclosed by recruiter   \n",
       "\n",
       "                                  skills  experience_range  industry_enum  \\\n",
       "0                                   ITES                 0              1   \n",
       "1                              Marketing                 0              2   \n",
       "2  IT Software - Application Programming                 1              3   \n",
       "3                               Accounts                 3              4   \n",
       "4                               Accounts                 3              4   \n",
       "\n",
       "   Salary_range  j_id  is_grad  is_postgrad  is_doc  location     loc_name  \n",
       "0      225000.0     0        1            0       0        30   Tamil Nadu  \n",
       "1      250000.0     1        1            0       0        30   Tamil Nadu  \n",
       "2           0.0     2        1            0       0        16    Karnataka  \n",
       "3           0.0     3        1            0       0        20  Maharashtra  \n",
       "4           0.0     4        1            0       0        16    Karnataka  "
      ]
     },
     "execution_count": 3,
     "metadata": {},
     "output_type": "execute_result"
    }
   ],
   "source": [
    "job = pd.read_csv('WIP/sorted_jobs_master_new.csv')\n",
    "job.head()"
   ]
  },
  {
   "cell_type": "code",
   "execution_count": 4,
   "metadata": {},
   "outputs": [
    {
     "name": "stdout",
     "output_type": "stream",
     "text": [
      "<class 'pandas.core.frame.DataFrame'>\n",
      "RangeIndex: 38941 entries, 0 to 38940\n",
      "Data columns (total 17 columns):\n",
      " #   Column            Non-Null Count  Dtype  \n",
      "---  ------            --------------  -----  \n",
      " 0   company           38941 non-null  object \n",
      " 1   education         38941 non-null  object \n",
      " 2   experience        38941 non-null  int64  \n",
      " 3   industry          38941 non-null  object \n",
      " 4   jobdescription    38941 non-null  object \n",
      " 5   jobtitle          38941 non-null  object \n",
      " 6   payrate           38941 non-null  object \n",
      " 7   skills            38941 non-null  object \n",
      " 8   experience_range  38941 non-null  int64  \n",
      " 9   industry_enum     38941 non-null  int64  \n",
      " 10  Salary_range      38941 non-null  float64\n",
      " 11  j_id              38941 non-null  int64  \n",
      " 12  is_grad           38941 non-null  int64  \n",
      " 13  is_postgrad       38941 non-null  int64  \n",
      " 14  is_doc            38941 non-null  int64  \n",
      " 15  location          38941 non-null  int64  \n",
      " 16  loc_name          38941 non-null  object \n",
      "dtypes: float64(1), int64(8), object(8)\n",
      "memory usage: 5.1+ MB\n"
     ]
    }
   ],
   "source": [
    "job.info()"
   ]
  },
  {
   "cell_type": "code",
   "execution_count": null,
   "metadata": {},
   "outputs": [],
   "source": []
  }
 ],
 "metadata": {
  "kernelspec": {
   "display_name": "Python 3",
   "language": "python",
   "name": "python3"
  },
  "language_info": {
   "codemirror_mode": {
    "name": "ipython",
    "version": 3
   },
   "file_extension": ".py",
   "mimetype": "text/x-python",
   "name": "python",
   "nbconvert_exporter": "python",
   "pygments_lexer": "ipython3",
   "version": "3.7.6"
  }
 },
 "nbformat": 4,
 "nbformat_minor": 4
}
