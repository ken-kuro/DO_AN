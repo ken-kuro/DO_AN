{
 "cells": [
  {
   "cell_type": "markdown",
   "metadata": {},
   "source": [
    "# Fuzzy-Wuzzy Logic for Sorting Titles"
   ]
  },
  {
   "cell_type": "code",
   "execution_count": 1,
   "metadata": {},
   "outputs": [],
   "source": [
    "import numpy as np\n",
    "import pandas as pd\n",
    "import json\n",
    "import matplotlib.pyplot as plt\n",
    "%matplotlib inline\n",
    "\n",
    "import re\n",
    "import datetime\n",
    "from datetime import date\n",
    "from time import strptime\n",
    "\n",
    "import RAKE as rake\n",
    "import operator\n"
   ]
  },
  {
   "cell_type": "code",
   "execution_count": 30,
   "metadata": {},
   "outputs": [],
   "source": [
    "# First reading my resume csv\n",
    "resume = pd.read_csv('resume_data/master_resume_data.csv')"
   ]
  },
  {
   "cell_type": "markdown",
   "metadata": {},
   "source": [
    "###############################################################################\n",
    "##  Resume Title Column \n",
    "\n",
    "This column is very important to any resume. On analysis, I find that there are lot of similar titles that appeared differently in this column like :\n",
    "* Java developer\n",
    "* java dev\n",
    "\n",
    "I decided to resolve this issue by fuzzy-wuzzy \n",
    "\n",
    "###############################################################################"
   ]
  },
  {
   "cell_type": "code",
   "execution_count": 4,
   "metadata": {},
   "outputs": [
    {
     "data": {
      "text/plain": [
       "4513"
      ]
     },
     "execution_count": 4,
     "metadata": {},
     "output_type": "execute_result"
    }
   ],
   "source": [
    "resume['Resume_title'].nunique()"
   ]
  },
  {
   "cell_type": "code",
   "execution_count": 56,
   "metadata": {},
   "outputs": [],
   "source": [
    "unique_title = resume['Resume_title'].unique().tolist()"
   ]
  },
  {
   "cell_type": "code",
   "execution_count": 57,
   "metadata": {},
   "outputs": [
    {
     "data": {
      "text/plain": [
       "4513"
      ]
     },
     "execution_count": 57,
     "metadata": {},
     "output_type": "execute_result"
    }
   ],
   "source": [
    "len(unique_title)"
   ]
  },
  {
   "cell_type": "code",
   "execution_count": 59,
   "metadata": {},
   "outputs": [],
   "source": [
    "unique_title.sort()"
   ]
  },
  {
   "cell_type": "code",
   "execution_count": 60,
   "metadata": {},
   "outputs": [
    {
     "name": "stderr",
     "output_type": "stream",
     "text": [
      "C:\\Users\\shail\\anaconda\\lib\\site-packages\\fuzzywuzzy\\fuzz.py:11: UserWarning: Using slow pure-python SequenceMatcher. Install python-Levenshtein to remove this warning\n",
      "  warnings.warn('Using slow pure-python SequenceMatcher. Install python-Levenshtein to remove this warning')\n"
     ]
    }
   ],
   "source": [
    "from fuzzywuzzy import process, fuzz"
   ]
  },
  {
   "cell_type": "code",
   "execution_count": 1,
   "metadata": {},
   "outputs": [],
   "source": [
    "#Create tuples of resume titles, matched titles names, and the score\n",
    "title_score_sort = [(x,) + i\n",
    "             for x in unique_title \n",
    "             for i in process.extract(x, unique_title, scorer=fuzz.token_sort_ratio)]\n",
    "#Create a dataframe from the tuples\n",
    "title_similarity_sort = pd.DataFrame(title_score_sort, columns=['title_orinigal','title_checked','title_score_sort'])"
   ]
  },
  {
   "cell_type": "code",
   "execution_count": 113,
   "metadata": {},
   "outputs": [
    {
     "name": "stdout",
     "output_type": "stream",
     "text": [
      "<class 'pandas.core.frame.DataFrame'>\n",
      "RangeIndex: 22565 entries, 0 to 22564\n",
      "Data columns (total 3 columns):\n",
      " #   Column            Non-Null Count  Dtype \n",
      "---  ------            --------------  ----- \n",
      " 0   title_new         22565 non-null  object\n",
      " 1   title_original    22565 non-null  object\n",
      " 2   title_score_sort  22565 non-null  int64 \n",
      "dtypes: int64(1), object(2)\n",
      "memory usage: 529.0+ KB\n"
     ]
    }
   ],
   "source": [
    "title_similarity_sort.info()"
   ]
  },
  {
   "cell_type": "code",
   "execution_count": 70,
   "metadata": {},
   "outputs": [
    {
     "data": {
      "text/html": [
       "<div>\n",
       "<style scoped>\n",
       "    .dataframe tbody tr th:only-of-type {\n",
       "        vertical-align: middle;\n",
       "    }\n",
       "\n",
       "    .dataframe tbody tr th {\n",
       "        vertical-align: top;\n",
       "    }\n",
       "\n",
       "    .dataframe thead th {\n",
       "        text-align: right;\n",
       "    }\n",
       "</style>\n",
       "<table border=\"1\" class=\"dataframe\">\n",
       "  <thead>\n",
       "    <tr style=\"text-align: right;\">\n",
       "      <th></th>\n",
       "      <th>title_original1</th>\n",
       "      <th>title_checked</th>\n",
       "      <th>title_score_sort</th>\n",
       "    </tr>\n",
       "  </thead>\n",
       "  <tbody>\n",
       "    <tr>\n",
       "      <th>0</th>\n",
       "      <td>java developer</td>\n",
       "      <td>java developer</td>\n",
       "      <td>100</td>\n",
       "    </tr>\n",
       "    <tr>\n",
       "      <th>1</th>\n",
       "      <td>java developer</td>\n",
       "      <td>developer( java)</td>\n",
       "      <td>100</td>\n",
       "    </tr>\n",
       "    <tr>\n",
       "      <th>2</th>\n",
       "      <td>java developer</td>\n",
       "      <td>java devloper</td>\n",
       "      <td>96</td>\n",
       "    </tr>\n",
       "    <tr>\n",
       "      <th>3</th>\n",
       "      <td>java developer</td>\n",
       "      <td>sr java developer</td>\n",
       "      <td>90</td>\n",
       "    </tr>\n",
       "    <tr>\n",
       "      <th>4</th>\n",
       "      <td>java developer</td>\n",
       "      <td>jr java developer</td>\n",
       "      <td>90</td>\n",
       "    </tr>\n",
       "  </tbody>\n",
       "</table>\n",
       "</div>"
      ],
      "text/plain": [
       "  title_original1      title_checked  title_score_sort\n",
       "0  java developer     java developer               100\n",
       "1  java developer   developer( java)               100\n",
       "2  java developer      java devloper                96\n",
       "3  java developer  sr java developer                90\n",
       "4  java developer  jr java developer                90"
      ]
     },
     "execution_count": 70,
     "metadata": {},
     "output_type": "execute_result"
    }
   ],
   "source": [
    "title_similarity_sort.head()"
   ]
  },
  {
   "cell_type": "code",
   "execution_count": 76,
   "metadata": {},
   "outputs": [],
   "source": [
    "# get titles with score greater than 80\n",
    "new_score = title_similarity_sort[title_similarity_sort['title_score_sort']>80]"
   ]
  },
  {
   "cell_type": "code",
   "execution_count": 77,
   "metadata": {},
   "outputs": [
    {
     "name": "stdout",
     "output_type": "stream",
     "text": [
      "<class 'pandas.core.frame.DataFrame'>\n",
      "Int64Index: 10056 entries, 0 to 22560\n",
      "Data columns (total 3 columns):\n",
      " #   Column            Non-Null Count  Dtype \n",
      "---  ------            --------------  ----- \n",
      " 0   title_original1   10056 non-null  object\n",
      " 1   title_checked     10056 non-null  object\n",
      " 2   title_score_sort  10056 non-null  int64 \n",
      "dtypes: int64(1), object(2)\n",
      "memory usage: 314.2+ KB\n"
     ]
    }
   ],
   "source": [
    "new_score.info()"
   ]
  },
  {
   "cell_type": "code",
   "execution_count": 66,
   "metadata": {},
   "outputs": [],
   "source": [
    "title_similarity_sort=pd.read_csv('wip/resume_title.csv')"
   ]
  },
  {
   "cell_type": "code",
   "execution_count": 69,
   "metadata": {},
   "outputs": [],
   "source": [
    "title_similarity_sort.rename({'title_new':'title_original1','title_original':'title_checked'},axis=1,inplace = True)"
   ]
  },
  {
   "cell_type": "code",
   "execution_count": 74,
   "metadata": {},
   "outputs": [],
   "source": [
    "# resume['resume_title_new']=(title_similarity_sort['title_score_sort']>80\n",
    "#                             & title_similarity_sort['title_checked'] == resume['Resume_title'], \n",
    "#                             title_similarity_sort['title_original1'] )"
   ]
  },
  {
   "cell_type": "code",
   "execution_count": null,
   "metadata": {},
   "outputs": [],
   "source": [
    "for i in range(new_score.shape[0]):\n",
    "    if new_score['title_score_sort'][i] >= 80 & new_score['title_checked'][i] is in new_score['title_new']:\n",
    "        where new_score['title_original1']=[new_score['title_checked'][i]], replace with new_score['title_original1'][i]"
   ]
  },
  {
   "cell_type": "code",
   "execution_count": null,
   "metadata": {},
   "outputs": [],
   "source": [
    "#replacing title with titles we got from calculated score\n",
    "unique_original_titles=title_original.unique\n",
    "unique_new_titles=title_new.unique\n",
    "for title in title_old:\n",
    " if score >80:\n",
    "    for unique in title_new:\n",
    "    {unique: values where score>80}\n",
    "     if values is in unique_original_titles:\n",
    "        remove value from list"
   ]
  },
  {
   "cell_type": "code",
   "execution_count": 71,
   "metadata": {},
   "outputs": [
    {
     "name": "stdout",
     "output_type": "stream",
     "text": [
      "<class 'pandas.core.frame.DataFrame'>\n",
      "RangeIndex: 14428 entries, 0 to 14427\n",
      "Data columns (total 24 columns):\n",
      " #   Column                  Non-Null Count  Dtype \n",
      "---  ------                  --------------  ----- \n",
      " 0   index                   14428 non-null  int64 \n",
      " 1   Resume_title            14428 non-null  object\n",
      " 2   City                    14428 non-null  object\n",
      " 3   location                14428 non-null  object\n",
      " 4   Description             14428 non-null  object\n",
      " 5   work_experiences        14428 non-null  object\n",
      " 6   Educations              14428 non-null  object\n",
      " 7   Skills                  14428 non-null  object\n",
      " 8   Links                   14428 non-null  object\n",
      " 9   Certificates            14428 non-null  object\n",
      " 10  Additional Information  14428 non-null  object\n",
      " 11  is_grad                 14428 non-null  int64 \n",
      " 12  is_postgrad             14428 non-null  int64 \n",
      " 13  is_doc                  14428 non-null  int64 \n",
      " 14  edu_unknown             14428 non-null  int64 \n",
      " 15  Computer_Eng            14428 non-null  int64 \n",
      " 16  Finance                 14428 non-null  int64 \n",
      " 17  HR                      14428 non-null  int64 \n",
      " 18  AI_stats                14428 non-null  int64 \n",
      " 19  MBA                     14428 non-null  int64 \n",
      " 20  Other_specialization    14428 non-null  int64 \n",
      " 21  resume_id               14428 non-null  int64 \n",
      " 22  total_experience        14428 non-null  int32 \n",
      " 23  experience_range        14428 non-null  int64 \n",
      "dtypes: int32(1), int64(13), object(10)\n",
      "memory usage: 2.6+ MB\n"
     ]
    }
   ],
   "source": [
    "resume.info()"
   ]
  },
  {
   "cell_type": "code",
   "execution_count": 140,
   "metadata": {},
   "outputs": [],
   "source": [
    "#saving sorted title csv\n",
    "title_similarity_sort.to_csv('resume_title.csv', index=False)"
   ]
  },
  {
   "cell_type": "markdown",
   "metadata": {},
   "source": [
    "## Initially,  I choose to go for 4 different resume titles \n",
    "1. Java\n",
    "2. .net\n",
    "3. python\n",
    "4. php"
   ]
  },
  {
   "cell_type": "code",
   "execution_count": 232,
   "metadata": {},
   "outputs": [
    {
     "name": "stderr",
     "output_type": "stream",
     "text": [
      "C:\\Users\\shail\\anaconda\\lib\\site-packages\\ipykernel_launcher.py:4: SettingWithCopyWarning: \n",
      "A value is trying to be set on a copy of a slice from a DataFrame.\n",
      "Try using .loc[row_indexer,col_indexer] = value instead\n",
      "\n",
      "See the caveats in the documentation: https://pandas.pydata.org/pandas-docs/stable/user_guide/indexing.html#returning-a-view-versus-a-copy\n",
      "  after removing the cwd from sys.path.\n"
     ]
    }
   ],
   "source": [
    "# pullin java\n",
    "resume_java = resume.loc[resume['Resume_title'].str.contains('java', na=False)]\n",
    "resume_java.to_csv('resume_java.csv', index=False)\n",
    "resume_java['Resume_title'] = 'java developer'\n",
    "resume.loc[resume.Resume_title.str.contains('java', na=False), \"Resume_title\"] = \"java developer\""
   ]
  },
  {
   "cell_type": "code",
   "execution_count": 233,
   "metadata": {},
   "outputs": [
    {
     "name": "stderr",
     "output_type": "stream",
     "text": [
      "C:\\Users\\shail\\anaconda\\lib\\site-packages\\ipykernel_launcher.py:4: SettingWithCopyWarning: \n",
      "A value is trying to be set on a copy of a slice from a DataFrame.\n",
      "Try using .loc[row_indexer,col_indexer] = value instead\n",
      "\n",
      "See the caveats in the documentation: https://pandas.pydata.org/pandas-docs/stable/user_guide/indexing.html#returning-a-view-versus-a-copy\n",
      "  after removing the cwd from sys.path.\n"
     ]
    }
   ],
   "source": [
    "### Now .net \n",
    "resume_net = resume.loc[resume['Resume_title'].str.match('\\.net.*dev|dev.*\\.net')]\n",
    "resume_net.to_csv('resume_net.csv', index=False)\n",
    "resume_net['Resume_title'] = '.net developer'\n",
    "resume.loc[resume['Resume_title'].str.match('\\.net.*dev|dev.*\\.net'), \"Resume_title\"] = \".net developer\""
   ]
  },
  {
   "cell_type": "code",
   "execution_count": 234,
   "metadata": {
    "scrolled": true
   },
   "outputs": [
    {
     "name": "stderr",
     "output_type": "stream",
     "text": [
      "C:\\Users\\shail\\anaconda\\lib\\site-packages\\ipykernel_launcher.py:4: SettingWithCopyWarning: \n",
      "A value is trying to be set on a copy of a slice from a DataFrame.\n",
      "Try using .loc[row_indexer,col_indexer] = value instead\n",
      "\n",
      "See the caveats in the documentation: https://pandas.pydata.org/pandas-docs/stable/user_guide/indexing.html#returning-a-view-versus-a-copy\n",
      "  after removing the cwd from sys.path.\n"
     ]
    }
   ],
   "source": [
    "### Now python\n",
    "resume_python = resume.loc[resume['Resume_title'].str.match('python.*dev|dev.*python')]\n",
    "resume_python.to_csv('resume_python.csv', index=False)\n",
    "resume_python['Resume_title'] = 'python developer'\n",
    "resume.loc[resume['Resume_title'].str.match('python.*dev|dev.*python'), \"Resume_title\"] = \"python developer\"\n"
   ]
  },
  {
   "cell_type": "code",
   "execution_count": 235,
   "metadata": {},
   "outputs": [
    {
     "name": "stderr",
     "output_type": "stream",
     "text": [
      "C:\\Users\\shail\\anaconda\\lib\\site-packages\\ipykernel_launcher.py:4: SettingWithCopyWarning: \n",
      "A value is trying to be set on a copy of a slice from a DataFrame.\n",
      "Try using .loc[row_indexer,col_indexer] = value instead\n",
      "\n",
      "See the caveats in the documentation: https://pandas.pydata.org/pandas-docs/stable/user_guide/indexing.html#returning-a-view-versus-a-copy\n",
      "  after removing the cwd from sys.path.\n"
     ]
    }
   ],
   "source": [
    "### Now php\n",
    "resume_php = resume.loc[resume['Resume_title'].str.match('php.*dev|dev.*php')]\n",
    "resume_php.to_csv('resume_php.csv', index=False)\n",
    "resume_php['Resume_title'] = 'php developer'\n",
    "resume.loc[resume['Resume_title'].str.match('php.*dev|dev.*php'), \"Resume_title\"] = \"php developer\""
   ]
  },
  {
   "cell_type": "code",
   "execution_count": 245,
   "metadata": {},
   "outputs": [],
   "source": [
    "t= resume.copy()\n",
    "t.to_csv('resume with 4 titles worked.csv', index=False)"
   ]
  },
  {
   "cell_type": "code",
   "execution_count": 236,
   "metadata": {},
   "outputs": [
    {
     "data": {
      "text/plain": [
       "php developer                                                                                                                                                                                                      1516\n",
       "java developer                                                                                                                                                                                                     1477\n",
       "python developer                                                                                                                                                                                                   1113\n",
       "software developer                                                                                                                                                                                                  965\n",
       "developer                                                                                                                                                                                                           737\n",
       "                                                                                                                                                                                                                   ... \n",
       "executive- admin & hr auditor                                                                                                                                                                                         1\n",
       "information system architect for dxc technology - servicenow                                                                                                                                                          1\n",
       "data entry auditor                                                                                                                                                                                                    1\n",
       "two years of it experience as a software engineer / python developer. domain knowledge in web application development using django, flask inclusive of microservices in graphql and rest. familiarity with elk.       1\n",
       "manager- it/network department - m/s deemtech software pvt. ltd                                                                                                                                                       1\n",
       "Name: Resume_title, Length: 3956, dtype: int64"
      ]
     },
     "execution_count": 236,
     "metadata": {},
     "output_type": "execute_result"
    }
   ],
   "source": [
    "resume['Resume_title'].value_counts()"
   ]
  },
  {
   "cell_type": "code",
   "execution_count": 237,
   "metadata": {},
   "outputs": [],
   "source": [
    "r_df = pd.concat([resume_java,resume_net,resume_python,resume_php],ignore_index=True)"
   ]
  },
  {
   "cell_type": "code",
   "execution_count": 239,
   "metadata": {},
   "outputs": [],
   "source": [
    "r_df.to_csv('r_df.csv', index=False)"
   ]
  },
  {
   "cell_type": "code",
   "execution_count": 240,
   "metadata": {},
   "outputs": [
    {
     "data": {
      "text/plain": [
       "php developer       1516\n",
       "java developer      1477\n",
       "python developer    1113\n",
       ".net developer        43\n",
       "Name: Resume_title, dtype: int64"
      ]
     },
     "execution_count": 240,
     "metadata": {},
     "output_type": "execute_result"
    }
   ],
   "source": [
    "r_df['Resume_title'].value_counts()"
   ]
  },
  {
   "cell_type": "code",
   "execution_count": 243,
   "metadata": {},
   "outputs": [
    {
     "data": {
      "text/plain": [
       "Text(0, 0.5, 'Number of Jobs')"
      ]
     },
     "execution_count": 243,
     "metadata": {},
     "output_type": "execute_result"
    },
    {
     "data": {
      "image/png": "[encoded data removed]",
      "text/plain": [
       "<Figure size 432x288 with 1 Axes>"
      ]
     },
     "metadata": {
      "needs_background": "light"
     },
     "output_type": "display_data"
    }
   ],
   "source": [
    "r_df['Resume_title'].value_counts().plot(cmap='Greens_r',kind='bar')\n",
    "plt.xlabel(\"Job Titles\")\n",
    "#plt.xticks(rotation=0)\n",
    "plt.ylabel(\"Number of Jobs\")"
   ]
  },
  {
   "cell_type": "code",
   "execution_count": 244,
   "metadata": {},
   "outputs": [
    {
     "data": {
      "text/plain": [
       "Text(0, 0.5, 'Number of Jobs')"
      ]
     },
     "execution_count": 244,
     "metadata": {},
     "output_type": "execute_result"
    },
    {
     "data": {
      "image/png": "[encoded data removed]",
      "text/plain": [
       "<Figure size 432x288 with 1 Axes>"
      ]
     },
     "metadata": {
      "needs_background": "light"
     },
     "output_type": "display_data"
    }
   ],
   "source": [
    "resume['Resume_title'].value_counts()[:20].plot(cmap='Greens_r',kind='bar')\n",
    "plt.xlabel(\"Job Titles\")\n",
    "#plt.xticks(rotation=0)\n",
    "plt.ylabel(\"Number of Jobs\")"
   ]
  }
 ],
 "metadata": {
  "kernelspec": {
   "display_name": "Python 3",
   "language": "python",
   "name": "python3"
  },
  "language_info": {
   "codemirror_mode": {
    "name": "ipython",
    "version": 3
   },
   "file_extension": ".py",
   "mimetype": "text/x-python",
   "name": "python",
   "nbconvert_exporter": "python",
   "pygments_lexer": "ipython3",
   "version": "3.7.6"
  }
 },
 "nbformat": 4,
 "nbformat_minor": 4
}
